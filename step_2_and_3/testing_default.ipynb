{
  "cells": [
    {
      "cell_type": "markdown",
      "metadata": {
        "colab_type": "text",
        "id": "view-in-github"
      },
      "source": [
        "<a href=\"https://colab.research.google.com/github/gab-palmeri/aml-geolocalization/blob/sam/testing_default.ipynb\" target=\"_parent\"><img src=\"https://colab.research.google.com/assets/colab-badge.svg\" alt=\"Open In Colab\"/></a>"
      ]
    },
    {
      "cell_type": "markdown",
      "metadata": {
        "id": "qf3z5SqWZ91b"
      },
      "source": [
        "# Torch "
      ]
    },
    {
      "cell_type": "code",
      "execution_count": null,
      "metadata": {
        "colab": {
          "base_uri": "https://localhost:8080/",
          "height": 1000
        },
        "id": "YbtEmI1AiTkF",
        "outputId": "93ee7ec7-4878-4b54-8f18-aa09d56eb5d6"
      },
      "outputs": [
        {
          "name": "stdout",
          "output_type": "stream",
          "text": [
            "Looking in indexes: https://pypi.org/simple, https://us-python.pkg.dev/colab-wheels/public/simple/\n",
            "Collecting faiss_cpu>=1.7.1\n",
            "  Downloading faiss_cpu-1.7.3-cp38-cp38-manylinux_2_17_x86_64.manylinux2014_x86_64.whl (17.0 MB)\n",
            "\u001b[K     |████████████████████████████████| 17.0 MB 15.0 MB/s \n",
            "\u001b[?25hInstalling collected packages: faiss-cpu\n",
            "Successfully installed faiss-cpu-1.7.3\n",
            "Looking in indexes: https://pypi.org/simple, https://us-python.pkg.dev/colab-wheels/public/simple/\n",
            "Requirement already satisfied: numpy>=1.21.2 in /usr/local/lib/python3.8/dist-packages (1.21.6)\n",
            "Looking in indexes: https://pypi.org/simple, https://us-python.pkg.dev/colab-wheels/public/simple/\n",
            "Collecting Pillow>=9.0.1\n",
            "  Downloading Pillow-9.3.0-cp38-cp38-manylinux_2_17_x86_64.manylinux2014_x86_64.whl (3.2 MB)\n",
            "\u001b[K     |████████████████████████████████| 3.2 MB 13.3 MB/s \n",
            "\u001b[?25hInstalling collected packages: Pillow\n",
            "  Attempting uninstall: Pillow\n",
            "    Found existing installation: Pillow 7.1.2\n",
            "    Uninstalling Pillow-7.1.2:\n",
            "      Successfully uninstalled Pillow-7.1.2\n",
            "Successfully installed Pillow-9.3.0\n"
          ]
        },
        {
          "data": {
            "application/vnd.colab-display-data+json": {
              "pip_warning": {
                "packages": [
                  "PIL"
                ]
              }
            }
          },
          "metadata": {},
          "output_type": "display_data"
        },
        {
          "name": "stdout",
          "output_type": "stream",
          "text": [
            "Looking in indexes: https://pypi.org/simple, https://us-python.pkg.dev/colab-wheels/public/simple/\n",
            "Requirement already satisfied: scikit_learn>=1.0.2 in /usr/local/lib/python3.8/dist-packages (1.0.2)\n",
            "Requirement already satisfied: scipy>=1.1.0 in /usr/local/lib/python3.8/dist-packages (from scikit_learn>=1.0.2) (1.7.3)\n",
            "Requirement already satisfied: threadpoolctl>=2.0.0 in /usr/local/lib/python3.8/dist-packages (from scikit_learn>=1.0.2) (3.1.0)\n",
            "Requirement already satisfied: joblib>=0.11 in /usr/local/lib/python3.8/dist-packages (from scikit_learn>=1.0.2) (1.2.0)\n",
            "Requirement already satisfied: numpy>=1.14.6 in /usr/local/lib/python3.8/dist-packages (from scikit_learn>=1.0.2) (1.21.6)\n",
            "Looking in indexes: https://pypi.org/simple, https://us-python.pkg.dev/colab-wheels/public/simple/\n",
            "Requirement already satisfied: torch>=1.8.2 in /usr/local/lib/python3.8/dist-packages (1.13.0+cu116)\n",
            "Requirement already satisfied: typing-extensions in /usr/local/lib/python3.8/dist-packages (from torch>=1.8.2) (4.4.0)\n",
            "Looking in indexes: https://pypi.org/simple, https://us-python.pkg.dev/colab-wheels/public/simple/\n",
            "Requirement already satisfied: torchvision>=0.9.2 in /usr/local/lib/python3.8/dist-packages (0.14.0+cu116)\n",
            "Requirement already satisfied: numpy in /usr/local/lib/python3.8/dist-packages (from torchvision>=0.9.2) (1.21.6)\n",
            "Requirement already satisfied: typing-extensions in /usr/local/lib/python3.8/dist-packages (from torchvision>=0.9.2) (4.4.0)\n",
            "Requirement already satisfied: pillow!=8.3.*,>=5.3.0 in /usr/local/lib/python3.8/dist-packages (from torchvision>=0.9.2) (9.3.0)\n",
            "Requirement already satisfied: torch==1.13.0 in /usr/local/lib/python3.8/dist-packages (from torchvision>=0.9.2) (1.13.0+cu116)\n",
            "Requirement already satisfied: requests in /usr/local/lib/python3.8/dist-packages (from torchvision>=0.9.2) (2.23.0)\n",
            "Requirement already satisfied: certifi>=2017.4.17 in /usr/local/lib/python3.8/dist-packages (from requests->torchvision>=0.9.2) (2022.9.24)\n",
            "Requirement already satisfied: idna<3,>=2.5 in /usr/local/lib/python3.8/dist-packages (from requests->torchvision>=0.9.2) (2.10)\n",
            "Requirement already satisfied: urllib3!=1.25.0,!=1.25.1,<1.26,>=1.21.1 in /usr/local/lib/python3.8/dist-packages (from requests->torchvision>=0.9.2) (1.24.3)\n",
            "Requirement already satisfied: chardet<4,>=3.0.2 in /usr/local/lib/python3.8/dist-packages (from requests->torchvision>=0.9.2) (3.0.4)\n",
            "Looking in indexes: https://pypi.org/simple, https://us-python.pkg.dev/colab-wheels/public/simple/\n",
            "Requirement already satisfied: tqdm>=4.62.3 in /usr/local/lib/python3.8/dist-packages (4.64.1)\n",
            "Looking in indexes: https://pypi.org/simple, https://us-python.pkg.dev/colab-wheels/public/simple/\n",
            "Collecting utm>=0.7.0\n",
            "  Downloading utm-0.7.0.tar.gz (8.7 kB)\n",
            "Building wheels for collected packages: utm\n",
            "  Building wheel for utm (setup.py) ... \u001b[?25l\u001b[?25hdone\n",
            "  Created wheel for utm: filename=utm-0.7.0-py3-none-any.whl size=6108 sha256=a7a47c19560a98f37480881e493541a6523396b2021c98ab58d1e0b235f64ec5\n",
            "  Stored in directory: /root/.cache/pip/wheels/65/e2/d8/878a8cc986641056fbfebefc4d8eb64238a7b6d3426e86b447\n",
            "Successfully built utm\n",
            "Installing collected packages: utm\n",
            "Successfully installed utm-0.7.0\n",
            "cuda:0\n"
          ]
        }
      ],
      "source": [
        "# CosPlace requirements\n",
        "!pip3 install \"faiss_cpu>=1.7.1\"\n",
        "!pip3 install \"numpy>=1.21.2\"\n",
        "!pip3 install \"Pillow>=9.0.1\"\n",
        "!pip3 install \"scikit_learn>=1.0.2\"\n",
        "!pip3 install \"torch>=1.8.2\"\n",
        "!pip3 install \"torchvision>=0.9.2\"\n",
        "!pip3 install \"tqdm>=4.62.3\"\n",
        "!pip3 install \"utm>=0.7.0\"\n",
        "\n",
        "import torch\n",
        "#use GPU if available \n",
        "DEVICE = torch.device(\"cuda:0\" if torch.cuda.is_available() else \"cpu\") #'cpu' # 'cuda' or 'cpu'\n",
        "print(DEVICE)"
      ]
    },
    {
      "cell_type": "markdown",
      "metadata": {
        "id": "czjvnq3FjBmh"
      },
      "source": [
        "# Download Datasets and previous data"
      ]
    },
    {
      "cell_type": "code",
      "execution_count": null,
      "metadata": {
        "id": "BGOhXMNqjMed"
      },
      "outputs": [],
      "source": [
        "import os\n",
        "import gdown\n",
        "\n",
        "def download(id, output=None, quiet=True):\n",
        "  gdown.download(\n",
        "    f\"https://drive.google.com/uc?export=download&confirm=pbef&id={id}\",\n",
        "    output=output,\n",
        "    quiet=quiet\n",
        "  )\n",
        "\n",
        "# SAN FRANCISCO DATASET\n",
        "if not os.path.isdir(\"/content/small\"):\n",
        "  id = \"1brIxBJmOgvuzFbI57f5LxnMxjccUu993\"\n",
        "  download(id, quiet=False)                           # download\n",
        "  !jar xvf \"/content/sf-xs.zip\"                       # unzip\n",
        "  !rm -r \"/content/sf-xs.zip\"                         # remove .zip file\n"
      ]
    },
    {
      "cell_type": "markdown",
      "metadata": {
        "id": "4g6SkCgyhl-g"
      },
      "source": [
        "# Download Code"
      ]
    },
    {
      "cell_type": "code",
      "execution_count": null,
      "metadata": {
        "colab": {
          "base_uri": "https://localhost:8080/"
        },
        "id": "63SgJ_Y0hwrC",
        "outputId": "fc7d04b5-6234-4895-ba40-51b9d4a1b348"
      },
      "outputs": [
        {
          "name": "stdout",
          "output_type": "stream",
          "text": [
            "Cloning into 'CosPlace'...\n",
            "remote: Enumerating objects: 168, done.\u001b[K\n",
            "remote: Counting objects: 100% (83/83), done.\u001b[K\n",
            "remote: Compressing objects: 100% (51/51), done.\u001b[K\n",
            "remote: Total 168 (delta 54), reused 53 (delta 32), pack-reused 85\u001b[K\n",
            "Receiving objects: 100% (168/168), 55.31 KiB | 11.06 MiB/s, done.\n",
            "Resolving deltas: 100% (84/84), done.\n"
          ]
        }
      ],
      "source": [
        "!git clone \"https://github.com/gmberton/CosPlace\" \n",
        "#!rm -r \"/content/CosPlace\""
      ]
    },
    {
      "cell_type": "markdown",
      "metadata": {
        "id": "MAR9zkdK44Tk"
      },
      "source": [
        "## Run this to know all the parameters of train"
      ]
    },
    {
      "cell_type": "code",
      "execution_count": null,
      "metadata": {
        "colab": {
          "base_uri": "https://localhost:8080/"
        },
        "id": "n-rDgmN_4eka",
        "outputId": "c85f300c-9f84-4480-e278-8ab63422c952"
      },
      "outputs": [
        {
          "name": "stdout",
          "output_type": "stream",
          "text": [
            "usage: train.py\n",
            "       [-h]\n",
            "       [--M M]\n",
            "       [--alpha ALPHA]\n",
            "       [--N N]\n",
            "       [--L L]\n",
            "       [--groups_num GROUPS_NUM]\n",
            "       [--min_images_per_class MIN_IMAGES_PER_CLASS]\n",
            "       [--backbone {vgg16,resnet18,resnet50,resnet101,resnet152}]\n",
            "       [--fc_output_dim FC_OUTPUT_DIM]\n",
            "       [--use_amp16]\n",
            "       [--augmentation_device {cuda,cpu}]\n",
            "       [--batch_size BATCH_SIZE]\n",
            "       [--epochs_num EPOCHS_NUM]\n",
            "       [--iterations_per_epoch ITERATIONS_PER_EPOCH]\n",
            "       [--lr LR]\n",
            "       [--classifiers_lr CLASSIFIERS_LR]\n",
            "       [--brightness BRIGHTNESS]\n",
            "       [--contrast CONTRAST]\n",
            "       [--hue HUE]\n",
            "       [--saturation SATURATION]\n",
            "       [--random_resized_crop RANDOM_RESIZED_CROP]\n",
            "       [--infer_batch_size INFER_BATCH_SIZE]\n",
            "       [--positive_dist_threshold POSITIVE_DIST_THRESHOLD]\n",
            "       [--resume_train RESUME_TRAIN]\n",
            "       [--resume_model RESUME_MODEL]\n",
            "       [--device {cuda,cpu}]\n",
            "       [--seed SEED]\n",
            "       [--num_workers NUM_WORKERS]\n",
            "       [--dataset_folder DATASET_FOLDER]\n",
            "       [--save_dir SAVE_DIR]\n",
            "\n",
            "optional arguments:\n",
            "  -h, --help\n",
            "    show this\n",
            "    help\n",
            "    message and\n",
            "    exit\n",
            "  --M M\n",
            "    _ (default:\n",
            "    10)\n",
            "  --alpha ALPHA\n",
            "    _ (default:\n",
            "    30)\n",
            "  --N N\n",
            "    _ (default:\n",
            "    5)\n",
            "  --L L\n",
            "    _ (default:\n",
            "    2)\n",
            "  --groups_num GROUPS_NUM\n",
            "    _ (default:\n",
            "    8)\n",
            "  --min_images_per_class MIN_IMAGES_PER_CLASS\n",
            "    _ (default:\n",
            "    10)\n",
            "  --backbone {vgg16,resnet18,resnet50,resnet101,resnet152}\n",
            "    _ (default:\n",
            "    resnet18)\n",
            "  --fc_output_dim FC_OUTPUT_DIM\n",
            "    Output\n",
            "    dimension\n",
            "    of final\n",
            "    fully\n",
            "    connected\n",
            "    layer\n",
            "    (default:\n",
            "    512)\n",
            "  --use_amp16\n",
            "    use\n",
            "    Automatic\n",
            "    Mixed\n",
            "    Precision\n",
            "    (default:\n",
            "    False)\n",
            "  --augmentation_device {cuda,cpu}\n",
            "    on which\n",
            "    device to\n",
            "    run data au\n",
            "    gmentation\n",
            "    (default:\n",
            "    cuda)\n",
            "  --batch_size BATCH_SIZE\n",
            "    _ (default:\n",
            "    32)\n",
            "  --epochs_num EPOCHS_NUM\n",
            "    _ (default:\n",
            "    50)\n",
            "  --iterations_per_epoch ITERATIONS_PER_EPOCH\n",
            "    _ (default:\n",
            "    10000)\n",
            "  --lr LR\n",
            "    _ (default:\n",
            "    1e-05)\n",
            "  --classifiers_lr CLASSIFIERS_LR\n",
            "    _ (default:\n",
            "    0.01)\n",
            "  --brightness BRIGHTNESS\n",
            "    _ (default:\n",
            "    0.7)\n",
            "  --contrast CONTRAST\n",
            "    _ (default:\n",
            "    0.7)\n",
            "  --hue HUE\n",
            "    _ (default:\n",
            "    0.5)\n",
            "  --saturation SATURATION\n",
            "    _ (default:\n",
            "    0.7)\n",
            "  --random_resized_crop RANDOM_RESIZED_CROP\n",
            "    _ (default:\n",
            "    0.5)\n",
            "  --infer_batch_size INFER_BATCH_SIZE\n",
            "    Batch size\n",
            "    for\n",
            "    inference\n",
            "    (validating\n",
            "    and\n",
            "    testing)\n",
            "    (default:\n",
            "    16)\n",
            "  --positive_dist_threshold POSITIVE_DIST_THRESHOLD\n",
            "    distance in\n",
            "    meters for\n",
            "    a\n",
            "    prediction\n",
            "    to be\n",
            "    considered\n",
            "    a positive\n",
            "    (default:\n",
            "    25)\n",
            "  --resume_train RESUME_TRAIN\n",
            "    path to\n",
            "    checkpoint\n",
            "    to resume,\n",
            "    e.g. logs/.\n",
            "    ../last_che\n",
            "    ckpoint.pth\n",
            "    (default:\n",
            "    None)\n",
            "  --resume_model RESUME_MODEL\n",
            "    path to\n",
            "    model to\n",
            "    resume,\n",
            "    e.g. logs/.\n",
            "    ../best_mod\n",
            "    el.pth\n",
            "    (default:\n",
            "    None)\n",
            "  --device {cuda,cpu}\n",
            "    _ (default:\n",
            "    cuda)\n",
            "  --seed SEED\n",
            "    _ (default:\n",
            "    0)\n",
            "  --num_workers NUM_WORKERS\n",
            "    _ (default:\n",
            "    8)\n",
            "  --dataset_folder DATASET_FOLDER\n",
            "    path of the\n",
            "    folder with\n",
            "    train/val/t\n",
            "    est sets\n",
            "    (default:\n",
            "    None)\n",
            "  --save_dir SAVE_DIR\n",
            "    name of\n",
            "    directory\n",
            "    on which to\n",
            "    save the\n",
            "    logs, under\n",
            "    logs/save_d\n",
            "    ir\n",
            "    (default:\n",
            "    default)\n"
          ]
        }
      ],
      "source": [
        "!python CosPlace/train.py -h"
      ]
    },
    {
      "cell_type": "markdown",
      "metadata": {
        "id": "zK9hTJXqkDht"
      },
      "source": [
        "# Testing default train"
      ]
    },
    {
      "cell_type": "code",
      "execution_count": null,
      "metadata": {
        "colab": {
          "base_uri": "https://localhost:8080/"
        },
        "id": "KpGgiE0EioEQ",
        "outputId": "83d2b2dc-3e9f-4ef8-b511-ce26af8c2a0a"
      },
      "outputs": [
        {
          "name": "stdout",
          "output_type": "stream",
          "text": [
            "2022-12-11 17:17:27   CosPlace/train.py --dataset_folder /content/small --save_dir /content/saved_models --groups_num 1 --epochs_num 3\n",
            "2022-12-11 17:17:27   Arguments: Namespace(L=2, M=10, N=5, alpha=30, augmentation_device='cuda', backbone='resnet18', batch_size=32, brightness=0.7, classifiers_lr=0.01, contrast=0.7, dataset_folder='/content/small', device='cuda', epochs_num=3, fc_output_dim=512, groups_num=1, hue=0.5, infer_batch_size=16, iterations_per_epoch=10000, lr=1e-05, min_images_per_class=10, num_workers=8, positive_dist_threshold=25, random_resized_crop=0.5, resume_model=None, resume_train=None, saturation=0.7, save_dir='/content/saved_models', seed=0, test_set_folder='/content/small/test', train_set_folder='/content/small/train', use_amp16=False, val_set_folder='/content/small/val')\n",
            "2022-12-11 17:17:27   The outputs are being saved in logs//content/saved_models/2022-12-11_17-17-27\n",
            "/usr/local/lib/python3.8/dist-packages/torchvision/models/_utils.py:208: UserWarning: The parameter 'pretrained' is deprecated since 0.13 and may be removed in the future, please use 'weights' instead.\n",
            "  warnings.warn(\n",
            "/usr/local/lib/python3.8/dist-packages/torchvision/models/_utils.py:223: UserWarning: Arguments other than a weight enum or `None` for 'weights' are deprecated since 0.13 and may be removed in the future. The current behavior is equivalent to passing `weights=ResNet18_Weights.IMAGENET1K_V1`. You can also use `weights=ResNet18_Weights.DEFAULT` to get the most up-to-date weights.\n",
            "  warnings.warn(msg)\n",
            "Downloading: \"https://download.pytorch.org/models/resnet18-f37072fd.pth\" to /root/.cache/torch/hub/checkpoints/resnet18-f37072fd.pth\n",
            "100% 44.7M/44.7M [00:00<00:00, 57.8MB/s]\n",
            "2022-12-11 17:17:28   Train only layer3 and layer4 of the resnet18, freeze the previous ones\n",
            "2022-12-11 17:17:29   There are 1 GPUs and 2 CPUs.\n",
            "2022-12-11 17:17:32   Cached dataset cache/small_M10_N5_mipc10.torch does not exist, I'll create it now.\n",
            "2022-12-11 17:17:32   Searching training images in /content/small/train\n",
            "2022-12-11 17:17:32   Found 59650 images\n",
            "2022-12-11 17:17:32   For each image, get its UTM east, UTM north and heading from its path\n",
            "2022-12-11 17:17:33   For each image, get class and group to which it belongs\n",
            "2022-12-11 17:17:33   Group together images belonging to the same class\n",
            "2022-12-11 17:17:33   Group together classes belonging to the same group\n",
            "2022-12-11 17:17:33   Using 1 groups\n",
            "2022-12-11 17:17:33   The 1 groups have respectively the following number of classes [5965]\n",
            "2022-12-11 17:17:33   The 1 groups have respectively the following number of images [59650]\n",
            "2022-12-11 17:17:33   Validation set: < val - #q: 7993; #db: 8015 >\n",
            "2022-12-11 17:17:33   Test set: < test - #q: 1000; #db: 27191 >\n",
            "2022-12-11 17:17:33   Start training ...\n",
            "2022-12-11 17:17:33   There are 5965 classes for the first group, each epoch has 10000 iterations with batch_size 32, therefore the model sees each class (on average) 53.6 times per epoch\n",
            "/usr/local/lib/python3.8/dist-packages/torch/utils/data/dataloader.py:554: UserWarning: This DataLoader will create 8 worker processes in total. Our suggested max number of worker in current system is 2, which is smaller than what this DataLoader is going to create. Please be aware that excessive worker creation might get DataLoader running slow or even freeze, lower the worker number to avoid potential slowness/freeze if necessary.\n",
            "  warnings.warn(_create_warning_msg(\n",
            "100%|███████████████████████████████████████████████████████| 10000/10000 [1:18:21<00:00,  2.13it/s]\n",
            "2022-12-11 18:35:55   Epoch 00 in 1:18:22, loss = 7.9503\n",
            "2022-12-11 18:35:55   Extracting database descriptors for evaluation/testing\n",
            "100%|█████████████████████████████████████████████████████████████| 501/501 [01:08<00:00,  7.33it/s]\n",
            "2022-12-11 18:37:04   Extracting queries descriptors for evaluation/testing using batch size 1\n",
            "100%|███████████████████████████████████████████████████████████| 7993/7993 [01:53<00:00, 70.23it/s]\n",
            "2022-12-11 18:38:58   Calculating recalls\n",
            "2022-12-11 18:38:59   Epoch 00 in 1:21:25, < val - #q: 7993; #db: 8015 >: R@1: 78.7, R@5: 88.0\n",
            "100%|███████████████████████████████████████████████████████| 10000/10000 [1:17:56<00:00,  2.14it/s]\n",
            "2022-12-11 19:56:57   Epoch 01 in 1:17:57, loss = 3.3677\n",
            "2022-12-11 19:56:57   Extracting database descriptors for evaluation/testing\n",
            "100%|█████████████████████████████████████████████████████████████| 501/501 [01:03<00:00,  7.86it/s]\n",
            "2022-12-11 19:58:01   Extracting queries descriptors for evaluation/testing using batch size 1\n",
            "100%|███████████████████████████████████████████████████████████| 7993/7993 [01:47<00:00, 74.45it/s]\n",
            "2022-12-11 19:59:48   Calculating recalls\n",
            "2022-12-11 19:59:49   Epoch 01 in 1:20:49, < val - #q: 7993; #db: 8015 >: R@1: 81.8, R@5: 89.9\n",
            "100%|███████████████████████████████████████████████████████| 10000/10000 [1:18:00<00:00,  2.14it/s]\n",
            "2022-12-11 21:17:52   Epoch 02 in 1:18:01, loss = 2.4285\n",
            "2022-12-11 21:17:52   Extracting database descriptors for evaluation/testing\n",
            "100%|█████████████████████████████████████████████████████████████| 501/501 [01:05<00:00,  7.70it/s]\n",
            "2022-12-11 21:18:57   Extracting queries descriptors for evaluation/testing using batch size 1\n",
            "100%|███████████████████████████████████████████████████████████| 7993/7993 [01:47<00:00, 74.13it/s]\n",
            "2022-12-11 21:20:44   Calculating recalls\n",
            "2022-12-11 21:20:46   Epoch 02 in 1:20:56, < val - #q: 7993; #db: 8015 >: R@1: 83.2, R@5: 90.6\n",
            "2022-12-11 21:20:46   Trained for 03 epochs, in total in 4:03:19\n",
            "2022-12-11 21:20:46   Now testing on the test set: < test - #q: 1000; #db: 27191 >\n",
            "2022-12-11 21:20:46   Extracting database descriptors for evaluation/testing\n",
            "100%|███████████████████████████████████████████████████████████| 1700/1700 [03:37<00:00,  7.82it/s]\n",
            "2022-12-11 21:24:24   Extracting queries descriptors for evaluation/testing using batch size 1\n",
            "100%|███████████████████████████████████████████████████████████| 1000/1000 [00:15<00:00, 63.24it/s]\n",
            "2022-12-11 21:24:40   Calculating recalls\n",
            "2022-12-11 21:24:40   < test - #q: 1000; #db: 27191 >: R@1: 52.2, R@5: 66.3, R@10: 71.8, R@20: 76.3\n",
            "2022-12-11 21:24:40   Experiment finished (without any errors)\n"
          ]
        }
      ],
      "source": [
        "!python CosPlace/train.py --dataset_folder /content/small --save_dir /content/saved_models --groups_num 1 --epochs_num 3"
      ]
    },
    {
      "cell_type": "markdown",
      "metadata": {
        "id": "wPIfX1yp_dtj"
      },
      "source": [
        "Save all logs generated by training in a specific folder in personal gdrive. Remember to copy inside shared_data of project drive"
      ]
    },
    {
      "cell_type": "code",
      "execution_count": null,
      "metadata": {
        "colab": {
          "base_uri": "https://localhost:8080/"
        },
        "id": "AnPzKaCQ-xRD",
        "outputId": "ff570806-f650-4bb4-dcef-7989007d3d87"
      },
      "outputs": [
        {
          "name": "stdout",
          "output_type": "stream",
          "text": [
            "Drive already mounted at /content/drive; to attempt to forcibly remount, call drive.mount(\"/content/drive\", force_remount=True).\n",
            "  adding: content/logs/ (stored 0%)\n",
            "  adding: content/logs/content/ (stored 0%)\n",
            "  adding: content/logs/content/saved_models/ (stored 0%)\n",
            "  adding: content/logs/content/saved_models/2022-12-11_17-17-27/ (stored 0%)\n",
            "  adding: content/logs/content/saved_models/2022-12-11_17-17-27/info.log (deflated 58%)\n",
            "  adding: content/logs/content/saved_models/2022-12-11_17-17-27/debug.log (deflated 66%)\n",
            "  adding: content/logs/content/saved_models/2022-12-11_17-17-27/last_checkpoint.pth (deflated 8%)\n",
            "  adding: content/logs/content/saved_models/2022-12-11_17-17-27/best_model.pth (deflated 7%)\n",
            "  adding: content/cache/ (stored 0%)\n",
            "  adding: content/cache/small_M10_N5_mipc10.torch (deflated 74%)\n"
          ]
        }
      ],
      "source": [
        "from google.colab import drive\n",
        "drive.mount('/content/drive')\n",
        "# zip logs -> logs.zip\n",
        "!zip -r /content/drive/MyDrive/logs.zip /content/logs/\n",
        "# zip cache -> cache.zip\n",
        "!zip -r /content/drive/MyDrive/cache.zip /content/cache/\n"
      ]
    },
    {
      "cell_type": "markdown",
      "metadata": {
        "id": "Y5jJf7v5Ox91"
      },
      "source": [
        "# Testing default test"
      ]
    },
    {
      "attachments": {},
      "cell_type": "markdown",
      "metadata": {},
      "source": [
        "Run this to know all parameters of test.py"
      ]
    },
    {
      "cell_type": "code",
      "execution_count": 1,
      "metadata": {},
      "outputs": [
        {
          "name": "stdout",
          "output_type": "stream",
          "text": [
            "^C\n"
          ]
        }
      ],
      "source": [
        "!python CosPlace/test.py -h"
      ]
    },
    {
      "attachments": {},
      "cell_type": "markdown",
      "metadata": {},
      "source": [
        "Run this to know all parameters of eval.py"
      ]
    },
    {
      "cell_type": "code",
      "execution_count": null,
      "metadata": {},
      "outputs": [],
      "source": [
        "!python CosPlace/eval.py -h"
      ]
    },
    {
      "cell_type": "code",
      "execution_count": null,
      "metadata": {
        "colab": {
          "base_uri": "https://localhost:8080/"
        },
        "id": "3XZjk3Z2O1m6",
        "outputId": "7b469c52-5816-4523-dfba-e56e5e54a3f0"
      },
      "outputs": [
        {
          "name": "stdout",
          "output_type": "stream",
          "text": [
            "2022-12-11 22:16:46   CosPlace/eval.py --dataset_folder /content/small --backbone resnet18 --fc_output_dim 512 --resume_model /content/logs/content/saved_models/2022-12-11_17-17-27/best_model.pth\n",
            "2022-12-11 22:16:46   Arguments: Namespace(L=2, M=10, N=5, alpha=30, augmentation_device='cuda', backbone='resnet18', batch_size=32, brightness=0.7, classifiers_lr=0.01, contrast=0.7, dataset_folder='/content/small', device='cuda', epochs_num=50, fc_output_dim=512, groups_num=8, hue=0.5, infer_batch_size=16, iterations_per_epoch=10000, lr=1e-05, min_images_per_class=10, num_workers=8, positive_dist_threshold=25, random_resized_crop=0.5, resume_model='/content/logs/content/saved_models/2022-12-11_17-17-27/best_model.pth', resume_train=None, saturation=0.7, save_dir='default', seed=0, test_set_folder='/content/small/test', use_amp16=False)\n",
            "2022-12-11 22:16:46   The outputs are being saved in logs/default/2022-12-11_22-16-46\n",
            "/usr/local/lib/python3.8/dist-packages/torchvision/models/_utils.py:208: UserWarning: The parameter 'pretrained' is deprecated since 0.13 and may be removed in the future, please use 'weights' instead.\n",
            "  warnings.warn(\n",
            "/usr/local/lib/python3.8/dist-packages/torchvision/models/_utils.py:223: UserWarning: Arguments other than a weight enum or `None` for 'weights' are deprecated since 0.13 and may be removed in the future. The current behavior is equivalent to passing `weights=ResNet18_Weights.IMAGENET1K_V1`. You can also use `weights=ResNet18_Weights.DEFAULT` to get the most up-to-date weights.\n",
            "  warnings.warn(msg)\n",
            "2022-12-11 22:16:47   There are 1 GPUs and 2 CPUs.\n",
            "2022-12-11 22:16:47   Loading model from /content/logs/content/saved_models/2022-12-11_17-17-27/best_model.pth\n",
            "/usr/local/lib/python3.8/dist-packages/torch/utils/data/dataloader.py:554: UserWarning: This DataLoader will create 8 worker processes in total. Our suggested max number of worker in current system is 2, which is smaller than what this DataLoader is going to create. Please be aware that excessive worker creation might get DataLoader running slow or even freeze, lower the worker number to avoid potential slowness/freeze if necessary.\n",
            "  warnings.warn(_create_warning_msg(\n",
            "100%|███████████████████████████████████████████████████████████| 1700/1700 [03:40<00:00,  7.72it/s]\n",
            "100%|███████████████████████████████████████████████████████████| 1000/1000 [00:17<00:00, 56.28it/s]\n",
            "2022-12-11 22:20:48   < test - #q: 1000; #db: 27191 >: R@1: 52.2, R@5: 66.3, R@10: 71.8, R@20: 76.3\n"
          ]
        }
      ],
      "source": [
        "# TEST ON SF-XS (TEST)\n",
        "!python CosPlace/eval.py --dataset_folder /content/small --backbone resnet18 --fc_output_dim 512 --resume_model /content/logs/content/saved_models/2022-12-11_17-17-27/best_model.pth"
      ]
    }
  ],
  "metadata": {
    "accelerator": "GPU",
    "colab": {
      "authorship_tag": "ABX9TyM5blY4zJYoIgO1o0c+0TIz",
      "include_colab_link": true,
      "provenance": []
    },
    "gpuClass": "standard",
    "kernelspec": {
      "display_name": "base",
      "language": "python",
      "name": "python3"
    },
    "language_info": {
      "codemirror_mode": {
        "name": "ipython",
        "version": 3
      },
      "file_extension": ".py",
      "mimetype": "text/x-python",
      "name": "python",
      "nbconvert_exporter": "python",
      "pygments_lexer": "ipython3",
      "version": "3.8.8 (default, Apr 13 2021, 12:59:45) \n[Clang 10.0.0 ]"
    },
    "vscode": {
      "interpreter": {
        "hash": "40d3a090f54c6569ab1632332b64b2c03c39dcf918b08424e98f38b5ae0af88f"
      }
    }
  },
  "nbformat": 4,
  "nbformat_minor": 0
}
