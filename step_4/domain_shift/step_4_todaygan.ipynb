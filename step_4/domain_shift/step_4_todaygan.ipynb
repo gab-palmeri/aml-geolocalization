{
  "cells": [
    {
      "cell_type": "markdown",
      "metadata": {
        "id": "view-in-github",
        "colab_type": "text"
      },
      "source": [
        "<a href=\"https://colab.research.google.com/github/gab-palmeri/aml-geolocalization/blob/develop/step_4/domain_shift/step_4_todaygan.ipynb\" target=\"_parent\"><img src=\"https://colab.research.google.com/assets/colab-badge.svg\" alt=\"Open In Colab\"/></a>"
      ]
    },
    {
      "cell_type": "markdown",
      "metadata": {
        "id": "qf3z5SqWZ91b"
      },
      "source": [
        "# pip install requirements\n",
        "\n",
        "Remember to click on \"Restart Runtime\" before go on"
      ]
    },
    {
      "cell_type": "code",
      "execution_count": 18,
      "metadata": {
        "colab": {
          "base_uri": "https://localhost:8080/",
          "height": 1000
        },
        "id": "YbtEmI1AiTkF",
        "outputId": "a4947551-1eb8-4c9a-f0c8-01e48fee51d8"
      },
      "outputs": [
        {
          "output_type": "stream",
          "name": "stdout",
          "text": [
            "Looking in indexes: https://pypi.org/simple, https://us-python.pkg.dev/colab-wheels/public/simple/\n",
            "Collecting faiss_cpu>=1.7.1\n",
            "  Downloading faiss_cpu-1.7.3-cp38-cp38-manylinux_2_17_x86_64.manylinux2014_x86_64.whl (17.0 MB)\n",
            "\u001b[2K     \u001b[90m━━━━━━━━━━━━━━━━━━━━━━━━━━━━━━━━━━━━━━━━\u001b[0m \u001b[32m17.0/17.0 MB\u001b[0m \u001b[31m75.8 MB/s\u001b[0m eta \u001b[36m0:00:00\u001b[0m\n",
            "\u001b[?25hInstalling collected packages: faiss_cpu\n",
            "Successfully installed faiss_cpu-1.7.3\n",
            "Looking in indexes: https://pypi.org/simple, https://us-python.pkg.dev/colab-wheels/public/simple/\n",
            "Requirement already satisfied: numpy>=1.21.2 in /usr/local/lib/python3.8/dist-packages (1.21.6)\n",
            "Looking in indexes: https://pypi.org/simple, https://us-python.pkg.dev/colab-wheels/public/simple/\n",
            "Collecting Pillow>=9.0.1\n",
            "  Downloading Pillow-9.4.0-cp38-cp38-manylinux_2_28_x86_64.whl (3.4 MB)\n",
            "\u001b[2K     \u001b[90m━━━━━━━━━━━━━━━━━━━━━━━━━━━━━━━━━━━━━━━━\u001b[0m \u001b[32m3.4/3.4 MB\u001b[0m \u001b[31m35.8 MB/s\u001b[0m eta \u001b[36m0:00:00\u001b[0m\n",
            "\u001b[?25hInstalling collected packages: Pillow\n",
            "  Attempting uninstall: Pillow\n",
            "    Found existing installation: Pillow 7.1.2\n",
            "    Uninstalling Pillow-7.1.2:\n",
            "      Successfully uninstalled Pillow-7.1.2\n",
            "Successfully installed Pillow-9.4.0\n"
          ]
        },
        {
          "output_type": "display_data",
          "data": {
            "application/vnd.colab-display-data+json": {
              "pip_warning": {
                "packages": [
                  "PIL"
                ]
              }
            }
          },
          "metadata": {}
        },
        {
          "output_type": "stream",
          "name": "stdout",
          "text": [
            "Looking in indexes: https://pypi.org/simple, https://us-python.pkg.dev/colab-wheels/public/simple/\n",
            "Requirement already satisfied: scikit_learn>=1.0.2 in /usr/local/lib/python3.8/dist-packages (1.0.2)\n",
            "Requirement already satisfied: joblib>=0.11 in /usr/local/lib/python3.8/dist-packages (from scikit_learn>=1.0.2) (1.2.0)\n",
            "Requirement already satisfied: numpy>=1.14.6 in /usr/local/lib/python3.8/dist-packages (from scikit_learn>=1.0.2) (1.21.6)\n",
            "Requirement already satisfied: scipy>=1.1.0 in /usr/local/lib/python3.8/dist-packages (from scikit_learn>=1.0.2) (1.7.3)\n",
            "Requirement already satisfied: threadpoolctl>=2.0.0 in /usr/local/lib/python3.8/dist-packages (from scikit_learn>=1.0.2) (3.1.0)\n",
            "Looking in indexes: https://pypi.org/simple, https://us-python.pkg.dev/colab-wheels/public/simple/\n",
            "Requirement already satisfied: torch>=1.8.2 in /usr/local/lib/python3.8/dist-packages (1.13.1+cu116)\n",
            "Requirement already satisfied: typing-extensions in /usr/local/lib/python3.8/dist-packages (from torch>=1.8.2) (4.4.0)\n",
            "Looking in indexes: https://pypi.org/simple, https://us-python.pkg.dev/colab-wheels/public/simple/\n",
            "Requirement already satisfied: torchvision>=0.9.2 in /usr/local/lib/python3.8/dist-packages (0.14.1+cu116)\n",
            "Requirement already satisfied: torch==1.13.1 in /usr/local/lib/python3.8/dist-packages (from torchvision>=0.9.2) (1.13.1+cu116)\n",
            "Requirement already satisfied: pillow!=8.3.*,>=5.3.0 in /usr/local/lib/python3.8/dist-packages (from torchvision>=0.9.2) (9.4.0)\n",
            "Requirement already satisfied: requests in /usr/local/lib/python3.8/dist-packages (from torchvision>=0.9.2) (2.25.1)\n",
            "Requirement already satisfied: numpy in /usr/local/lib/python3.8/dist-packages (from torchvision>=0.9.2) (1.21.6)\n",
            "Requirement already satisfied: typing-extensions in /usr/local/lib/python3.8/dist-packages (from torchvision>=0.9.2) (4.4.0)\n",
            "Requirement already satisfied: chardet<5,>=3.0.2 in /usr/local/lib/python3.8/dist-packages (from requests->torchvision>=0.9.2) (4.0.0)\n",
            "Requirement already satisfied: urllib3<1.27,>=1.21.1 in /usr/local/lib/python3.8/dist-packages (from requests->torchvision>=0.9.2) (1.24.3)\n",
            "Requirement already satisfied: certifi>=2017.4.17 in /usr/local/lib/python3.8/dist-packages (from requests->torchvision>=0.9.2) (2022.12.7)\n",
            "Requirement already satisfied: idna<3,>=2.5 in /usr/local/lib/python3.8/dist-packages (from requests->torchvision>=0.9.2) (2.10)\n",
            "Looking in indexes: https://pypi.org/simple, https://us-python.pkg.dev/colab-wheels/public/simple/\n",
            "Requirement already satisfied: tqdm>=4.62.3 in /usr/local/lib/python3.8/dist-packages (4.64.1)\n",
            "Looking in indexes: https://pypi.org/simple, https://us-python.pkg.dev/colab-wheels/public/simple/\n",
            "Collecting utm>=0.7.0\n",
            "  Downloading utm-0.7.0.tar.gz (8.7 kB)\n",
            "  Preparing metadata (setup.py) ... \u001b[?25l\u001b[?25hdone\n",
            "Building wheels for collected packages: utm\n",
            "  Building wheel for utm (setup.py) ... \u001b[?25l\u001b[?25hdone\n",
            "  Created wheel for utm: filename=utm-0.7.0-py3-none-any.whl size=6108 sha256=17bcd5137b575ce8937a5d67540e8fc8b75935fca66ffe6d337584a16cc9c01a\n",
            "  Stored in directory: /root/.cache/pip/wheels/65/e2/d8/878a8cc986641056fbfebefc4d8eb64238a7b6d3426e86b447\n",
            "Successfully built utm\n",
            "Installing collected packages: utm\n",
            "Successfully installed utm-0.7.0\n",
            "Looking in indexes: https://pypi.org/simple, https://us-python.pkg.dev/colab-wheels/public/simple/\n",
            "Collecting timm\n",
            "  Downloading timm-0.6.12-py3-none-any.whl (549 kB)\n",
            "\u001b[2K     \u001b[90m━━━━━━━━━━━━━━━━━━━━━━━━━━━━━━━━━━━━━━\u001b[0m \u001b[32m549.1/549.1 KB\u001b[0m \u001b[31m11.1 MB/s\u001b[0m eta \u001b[36m0:00:00\u001b[0m\n",
            "\u001b[?25hRequirement already satisfied: pyyaml in /usr/local/lib/python3.8/dist-packages (from timm) (6.0)\n",
            "Requirement already satisfied: torch>=1.7 in /usr/local/lib/python3.8/dist-packages (from timm) (1.13.1+cu116)\n",
            "Requirement already satisfied: torchvision in /usr/local/lib/python3.8/dist-packages (from timm) (0.14.1+cu116)\n",
            "Collecting huggingface-hub\n",
            "  Downloading huggingface_hub-0.12.0-py3-none-any.whl (190 kB)\n",
            "\u001b[2K     \u001b[90m━━━━━━━━━━━━━━━━━━━━━━━━━━━━━━━━━━━━━━\u001b[0m \u001b[32m190.3/190.3 KB\u001b[0m \u001b[31m27.1 MB/s\u001b[0m eta \u001b[36m0:00:00\u001b[0m\n",
            "\u001b[?25hRequirement already satisfied: typing-extensions in /usr/local/lib/python3.8/dist-packages (from torch>=1.7->timm) (4.4.0)\n",
            "Requirement already satisfied: requests in /usr/local/lib/python3.8/dist-packages (from huggingface-hub->timm) (2.25.1)\n",
            "Requirement already satisfied: packaging>=20.9 in /usr/local/lib/python3.8/dist-packages (from huggingface-hub->timm) (23.0)\n",
            "Requirement already satisfied: filelock in /usr/local/lib/python3.8/dist-packages (from huggingface-hub->timm) (3.9.0)\n",
            "Requirement already satisfied: tqdm>=4.42.1 in /usr/local/lib/python3.8/dist-packages (from huggingface-hub->timm) (4.64.1)\n",
            "Requirement already satisfied: numpy in /usr/local/lib/python3.8/dist-packages (from torchvision->timm) (1.21.6)\n",
            "Requirement already satisfied: pillow!=8.3.*,>=5.3.0 in /usr/local/lib/python3.8/dist-packages (from torchvision->timm) (9.4.0)\n",
            "Requirement already satisfied: urllib3<1.27,>=1.21.1 in /usr/local/lib/python3.8/dist-packages (from requests->huggingface-hub->timm) (1.24.3)\n",
            "Requirement already satisfied: chardet<5,>=3.0.2 in /usr/local/lib/python3.8/dist-packages (from requests->huggingface-hub->timm) (4.0.0)\n",
            "Requirement already satisfied: idna<3,>=2.5 in /usr/local/lib/python3.8/dist-packages (from requests->huggingface-hub->timm) (2.10)\n",
            "Requirement already satisfied: certifi>=2017.4.17 in /usr/local/lib/python3.8/dist-packages (from requests->huggingface-hub->timm) (2022.12.7)\n",
            "Installing collected packages: huggingface-hub, timm\n",
            "Successfully installed huggingface-hub-0.12.0 timm-0.6.12\n",
            "Looking in indexes: https://pypi.org/simple, https://us-python.pkg.dev/colab-wheels/public/simple/\n",
            "Collecting dominate\n",
            "  Downloading dominate-2.7.0-py2.py3-none-any.whl (29 kB)\n",
            "Installing collected packages: dominate\n",
            "Successfully installed dominate-2.7.0\n",
            "cuda:0\n"
          ]
        }
      ],
      "source": [
        "# CosPlace requirements\n",
        "!pip3 install \"faiss_cpu>=1.7.1\"\n",
        "!pip3 install \"numpy>=1.21.2\"\n",
        "!pip3 install \"Pillow>=9.0.1\"\n",
        "!pip3 install \"scikit_learn>=1.0.2\"\n",
        "!pip3 install \"torch>=1.8.2\"\n",
        "!pip3 install \"torchvision>=0.9.2\"\n",
        "!pip3 install \"tqdm>=4.62.3\"\n",
        "!pip3 install \"utm>=0.7.0\"\n",
        "!pip3 install \"timm\"\n",
        "!pip3 install \"dominate\"\n",
        "\n",
        "import torch\n",
        "#use GPU if available \n",
        "DEVICE = torch.device(\"cuda:0\" if torch.cuda.is_available() else \"cpu\") #'cpu' # 'cuda' or 'cpu'\n",
        "print(DEVICE)"
      ]
    },
    {
      "cell_type": "markdown",
      "metadata": {
        "id": "czjvnq3FjBmh"
      },
      "source": [
        "# Download Datasets and previous data"
      ]
    },
    {
      "cell_type": "markdown",
      "metadata": {
        "id": "_hY8bYPGyqLF"
      },
      "source": [
        "Downloading with gdown doesn't work properly.\n",
        "\n",
        "Prefer always to use drive / mount"
      ]
    },
    {
      "cell_type": "code",
      "execution_count": 10,
      "metadata": {
        "id": "BGOhXMNqjMed"
      },
      "outputs": [],
      "source": [
        "import os\n",
        "import gdown\n",
        "from google.colab import drive\n",
        "!rm -rf \"/content/tokyo-night-5\"\n",
        "def download(id, output=None, quiet=True):\n",
        "  gdown.download(\n",
        "    f\"https://drive.google.com/uc?export=download&confirm=pbef&id={id}\",\n",
        "    output=output,\n",
        "    quiet=quiet\n",
        "  )\n",
        "\n",
        "\n",
        "use_mount = False\n",
        "resume_model = False\n",
        "\n",
        "if use_mount:\n",
        "  drive.mount('/content/drive')\n",
        "\n",
        "#TOKYO NIGHT DATASET\n",
        "if not os.path.isdir(\"/content/tokyo-night\"):\n",
        "  if use_mount:\n",
        "    !jar xvf \"/content/drive/MyDrive/Project 6 - Dataset/tokyo-night.zip\"\n",
        "  else:\n",
        "    id = \"1tbEQL4XrUPaHyK5_OF16cpvam80PyttR\"\n",
        "    download(id, quiet=False)                           # download from our gdrive\n",
        "    !jar xvf \"/content/tokyo-night.zip\"                    # unzip\n",
        "    !rm -r \"/content/tokyo-night.zip\"\n",
        "\n",
        "if not os.path.isdir(\"/content/tokyo-night\"):\n",
        "  raise FileNotFoundError(f\"Can't download tokyo night\")\n",
        "\n",
        "#TOKYO NIGHT DATASET - AUGMENTATION 5 (TODAY)\n",
        "if not os.path.isdir(\"/content/tokyo-night-aug-5\"):\n",
        "  if use_mount:\n",
        "    !jar xvf \"/content/drive/MyDrive/Project 6 - Dataset/tokyo-night-aug-5.zip\"\n",
        "  else:\n",
        "    id = \"1Pd4fd9po7xVBO7FpXm1UPMSDw0smCef0\"\n",
        "    download(id, quiet=False)                           # download from our gdrive\n",
        "    !jar xvf \"/content/tokyo-night-aug-5.zip\"                    # unzip\n",
        "    !rm -r \"/content/tokyo-night-aug-5.zip\"\n",
        "\n",
        "if not os.path.isdir(\"/content/tokyo-night-aug-5\"):\n",
        "  raise FileNotFoundError(f\"Can't download tokyo night-aug-5\")\n",
        "\n",
        "#TOKYO NIGHT DATASET - AUGMENTATION 6 (TODAY)\n",
        "if not os.path.isdir(\"/content/tokyo-night-aug-6\"):\n",
        "  if use_mount:\n",
        "    !jar xvf \"/content/drive/MyDrive/Project 6 - Dataset/tokyo-night-aug-6.zip\"\n",
        "  else:\n",
        "    id = \"1B9rOC-u6W59VjWH7z-ebLnmJ7fjIzDWq\"\n",
        "    download(id, quiet=False)                           # download from our gdrive\n",
        "    !jar xvf \"/content/tokyo-night-aug-6.zip\"                    # unzip\n",
        "    !rm -r \"/content/tokyo-night-aug-6.zip\"\n",
        "\n",
        "if not os.path.isdir(\"/content/tokyo-night-aug-6\"):\n",
        "  raise FileNotFoundError(f\"Can't download tokyo night-aug-6\")\n",
        "\n",
        "# SAN FRANCISCO - XS DATASET\n",
        "if not os.path.isdir(\"/content/small\"):\n",
        "  if use_mount:\n",
        "    !jar xvf \"/content/drive/MyDrive/Project 6 - Dataset/sf-xs.zip\"\n",
        "  else:\n",
        "    id = \"1brIxBJmOgvuzFbI57f5LxnMxjccUu993\"\n",
        "    download(id, quiet=False)                           # download\n",
        "    !jar xvf \"/content/sf-xs.zip\"                       # unzip\n",
        "    !rm -r \"/content/sf-xs.zip\"                         # remove .zip file\n",
        "\n",
        "if not os.path.isdir(\"/content/small\"):\n",
        "  raise FileNotFoundError(f\"Can't download sfxs\")\n"
      ]
    },
    {
      "cell_type": "markdown",
      "metadata": {
        "id": "4g6SkCgyhl-g"
      },
      "source": [
        "# Download Code"
      ]
    },
    {
      "cell_type": "markdown",
      "metadata": {
        "id": "VFrIIf6E0UQM"
      },
      "source": [
        "Clone of original repo of CosPlace and our code"
      ]
    },
    {
      "cell_type": "code",
      "execution_count": 2,
      "metadata": {
        "colab": {
          "base_uri": "https://localhost:8080/"
        },
        "id": "63SgJ_Y0hwrC",
        "outputId": "a758fc4a-667e-4f0a-8e87-37da3cff1b3e"
      },
      "outputs": [
        {
          "output_type": "stream",
          "name": "stdout",
          "text": [
            "fatal: destination path 'CosPlace' already exists and is not an empty directory.\n",
            "Cloning into 'aml-geolocalization'...\n",
            "remote: Enumerating objects: 524, done.\u001b[K\n",
            "remote: Counting objects: 100% (129/129), done.\u001b[K\n",
            "remote: Compressing objects: 100% (26/26), done.\u001b[K\n",
            "remote: Total 524 (delta 115), reused 107 (delta 102), pack-reused 395\u001b[K\n",
            "Receiving objects: 100% (524/524), 30.19 MiB | 31.94 MiB/s, done.\n",
            "Resolving deltas: 100% (240/240), done.\n"
          ]
        }
      ],
      "source": [
        "# download code of CosPlace\n",
        "!git clone \"https://github.com/gmberton/CosPlace\" \n",
        "#!rm -r \"/content/CosPlace\"\n",
        "\n",
        "# download our code\n",
        "!git clone --single-branch --branch \"gab\" \"https://github.com/gab-palmeri/aml-geolocalization.git\"\n",
        "!mv \"/content/aml-geolocalization/\" \"/content/Team\"\n",
        "#!rm -r \"/content/aml-geolocalization\""
      ]
    },
    {
      "cell_type": "markdown",
      "metadata": {
        "id": "jiwWzjzSio-h"
      },
      "source": [
        "\n",
        "\n",
        "# Import Code\n"
      ]
    },
    {
      "cell_type": "code",
      "execution_count": 3,
      "metadata": {
        "id": "iAd54tr_cNtO"
      },
      "outputs": [],
      "source": [
        "import os\n",
        "import sys\n",
        "import torch\n",
        "import logging\n",
        "import multiprocessing\n",
        "import numpy as np\n",
        "import torchvision.transforms as T\n",
        "from tqdm import tqdm\n",
        "from datetime import datetime\n",
        "\n",
        "sys.path.append(\"/content/CosPlace/\")\n",
        "sys.path.append(\"/content/Team/\")\n",
        "import CosPlace\n",
        "from CosPlace import *\n",
        "\n",
        "torch.backends.cudnn.benchmark = True  # Provides a speedup"
      ]
    },
    {
      "cell_type": "markdown",
      "metadata": {
        "id": "2MsFj6mmaYJs"
      },
      "source": [
        "This class let us to access to dictionary keys like `dict.key` instead of `dict[\"key\"]`"
      ]
    },
    {
      "cell_type": "code",
      "execution_count": 4,
      "metadata": {
        "id": "PKoLeQ_1xGAA"
      },
      "outputs": [],
      "source": [
        "class dotdict(dict):\n",
        "    \"\"\"dot.notation access to dictionary attributes\"\"\"\n",
        "    __getattr__ = dict.get\n",
        "    __setattr__ = dict.__setitem__\n",
        "    __delattr__ = dict.__delitem__"
      ]
    },
    {
      "cell_type": "markdown",
      "metadata": {
        "id": "eb9otl0RvDI3"
      },
      "source": [
        "Drive related functions to save and load training checkpoints"
      ]
    },
    {
      "cell_type": "code",
      "execution_count": 5,
      "metadata": {
        "colab": {
          "base_uri": "https://localhost:8080/",
          "height": 375
        },
        "id": "rcM7DpMovDI3",
        "outputId": "097dbf5b-76d9-435b-94d2-d0c4bf6d597c"
      },
      "outputs": [
        {
          "output_type": "error",
          "ename": "MessageError",
          "evalue": "ignored",
          "traceback": [
            "\u001b[0;31m---------------------------------------------------------------------------\u001b[0m",
            "\u001b[0;31mMessageError\u001b[0m                              Traceback (most recent call last)",
            "\u001b[0;32m<ipython-input-5-30e2554ff7f9>\u001b[0m in \u001b[0;36m<module>\u001b[0;34m\u001b[0m\n\u001b[1;32m      2\u001b[0m \u001b[0;32mfrom\u001b[0m \u001b[0mgoogle\u001b[0m\u001b[0;34m.\u001b[0m\u001b[0mcolab\u001b[0m \u001b[0;32mimport\u001b[0m \u001b[0mdrive\u001b[0m\u001b[0;34m\u001b[0m\u001b[0;34m\u001b[0m\u001b[0m\n\u001b[1;32m      3\u001b[0m \u001b[0;34m\u001b[0m\u001b[0m\n\u001b[0;32m----> 4\u001b[0;31m \u001b[0mdrive\u001b[0m\u001b[0;34m.\u001b[0m\u001b[0mmount\u001b[0m\u001b[0;34m(\u001b[0m\u001b[0;34m'/content/drive'\u001b[0m\u001b[0;34m)\u001b[0m\u001b[0;34m\u001b[0m\u001b[0;34m\u001b[0m\u001b[0m\n\u001b[0m\u001b[1;32m      5\u001b[0m \u001b[0;34m\u001b[0m\u001b[0m\n\u001b[1;32m      6\u001b[0m \u001b[0;32mdef\u001b[0m \u001b[0mdrive_save_checkpoint\u001b[0m\u001b[0;34m(\u001b[0m\u001b[0moutput_folder\u001b[0m\u001b[0;34m,\u001b[0m \u001b[0mtime\u001b[0m\u001b[0;34m)\u001b[0m\u001b[0;34m:\u001b[0m\u001b[0;34m\u001b[0m\u001b[0;34m\u001b[0m\u001b[0m\n",
            "\u001b[0;32m/usr/local/lib/python3.8/dist-packages/google/colab/drive.py\u001b[0m in \u001b[0;36mmount\u001b[0;34m(mountpoint, force_remount, timeout_ms, readonly)\u001b[0m\n\u001b[1;32m     99\u001b[0m \u001b[0;32mdef\u001b[0m \u001b[0mmount\u001b[0m\u001b[0;34m(\u001b[0m\u001b[0mmountpoint\u001b[0m\u001b[0;34m,\u001b[0m \u001b[0mforce_remount\u001b[0m\u001b[0;34m=\u001b[0m\u001b[0;32mFalse\u001b[0m\u001b[0;34m,\u001b[0m \u001b[0mtimeout_ms\u001b[0m\u001b[0;34m=\u001b[0m\u001b[0;36m120000\u001b[0m\u001b[0;34m,\u001b[0m \u001b[0mreadonly\u001b[0m\u001b[0;34m=\u001b[0m\u001b[0;32mFalse\u001b[0m\u001b[0;34m)\u001b[0m\u001b[0;34m:\u001b[0m\u001b[0;34m\u001b[0m\u001b[0;34m\u001b[0m\u001b[0m\n\u001b[1;32m    100\u001b[0m   \u001b[0;34m\"\"\"Mount your Google Drive at the specified mountpoint path.\"\"\"\u001b[0m\u001b[0;34m\u001b[0m\u001b[0;34m\u001b[0m\u001b[0m\n\u001b[0;32m--> 101\u001b[0;31m   return _mount(\n\u001b[0m\u001b[1;32m    102\u001b[0m       \u001b[0mmountpoint\u001b[0m\u001b[0;34m,\u001b[0m\u001b[0;34m\u001b[0m\u001b[0;34m\u001b[0m\u001b[0m\n\u001b[1;32m    103\u001b[0m       \u001b[0mforce_remount\u001b[0m\u001b[0;34m=\u001b[0m\u001b[0mforce_remount\u001b[0m\u001b[0;34m,\u001b[0m\u001b[0;34m\u001b[0m\u001b[0;34m\u001b[0m\u001b[0m\n",
            "\u001b[0;32m/usr/local/lib/python3.8/dist-packages/google/colab/drive.py\u001b[0m in \u001b[0;36m_mount\u001b[0;34m(mountpoint, force_remount, timeout_ms, ephemeral, readonly)\u001b[0m\n\u001b[1;32m    122\u001b[0m       'TBE_EPHEM_CREDS_ADDR'] if ephemeral else _os.environ['TBE_CREDS_ADDR']\n\u001b[1;32m    123\u001b[0m   \u001b[0;32mif\u001b[0m \u001b[0mephemeral\u001b[0m\u001b[0;34m:\u001b[0m\u001b[0;34m\u001b[0m\u001b[0;34m\u001b[0m\u001b[0m\n\u001b[0;32m--> 124\u001b[0;31m     _message.blocking_request(\n\u001b[0m\u001b[1;32m    125\u001b[0m         'request_auth', request={'authType': 'dfs_ephemeral'}, timeout_sec=None)\n\u001b[1;32m    126\u001b[0m \u001b[0;34m\u001b[0m\u001b[0m\n",
            "\u001b[0;32m/usr/local/lib/python3.8/dist-packages/google/colab/_message.py\u001b[0m in \u001b[0;36mblocking_request\u001b[0;34m(request_type, request, timeout_sec, parent)\u001b[0m\n\u001b[1;32m    169\u001b[0m   request_id = send_request(\n\u001b[1;32m    170\u001b[0m       request_type, request, parent=parent, expect_reply=True)\n\u001b[0;32m--> 171\u001b[0;31m   \u001b[0;32mreturn\u001b[0m \u001b[0mread_reply_from_input\u001b[0m\u001b[0;34m(\u001b[0m\u001b[0mrequest_id\u001b[0m\u001b[0;34m,\u001b[0m \u001b[0mtimeout_sec\u001b[0m\u001b[0;34m)\u001b[0m\u001b[0;34m\u001b[0m\u001b[0;34m\u001b[0m\u001b[0m\n\u001b[0m",
            "\u001b[0;32m/usr/local/lib/python3.8/dist-packages/google/colab/_message.py\u001b[0m in \u001b[0;36mread_reply_from_input\u001b[0;34m(message_id, timeout_sec)\u001b[0m\n\u001b[1;32m    100\u001b[0m         reply.get('colab_msg_id') == message_id):\n\u001b[1;32m    101\u001b[0m       \u001b[0;32mif\u001b[0m \u001b[0;34m'error'\u001b[0m \u001b[0;32min\u001b[0m \u001b[0mreply\u001b[0m\u001b[0;34m:\u001b[0m\u001b[0;34m\u001b[0m\u001b[0;34m\u001b[0m\u001b[0m\n\u001b[0;32m--> 102\u001b[0;31m         \u001b[0;32mraise\u001b[0m \u001b[0mMessageError\u001b[0m\u001b[0;34m(\u001b[0m\u001b[0mreply\u001b[0m\u001b[0;34m[\u001b[0m\u001b[0;34m'error'\u001b[0m\u001b[0;34m]\u001b[0m\u001b[0;34m)\u001b[0m\u001b[0;34m\u001b[0m\u001b[0;34m\u001b[0m\u001b[0m\n\u001b[0m\u001b[1;32m    103\u001b[0m       \u001b[0;32mreturn\u001b[0m \u001b[0mreply\u001b[0m\u001b[0;34m.\u001b[0m\u001b[0mget\u001b[0m\u001b[0;34m(\u001b[0m\u001b[0;34m'data'\u001b[0m\u001b[0;34m,\u001b[0m \u001b[0;32mNone\u001b[0m\u001b[0;34m)\u001b[0m\u001b[0;34m\u001b[0m\u001b[0;34m\u001b[0m\u001b[0m\n\u001b[1;32m    104\u001b[0m \u001b[0;34m\u001b[0m\u001b[0m\n",
            "\u001b[0;31mMessageError\u001b[0m: Error: credential propagation was unsuccessful"
          ]
        }
      ],
      "source": [
        "import os\n",
        "from google.colab import drive\n",
        "\n",
        "drive.mount('/content/drive')\n",
        "\n",
        "def drive_save_checkpoint(output_folder, time):\n",
        "    drive_folder = \"/content/drive/MyDrive/project6/\"\n",
        "    if not os.path.exists(drive_folder):\n",
        "        !mkdir \"/content/drive/MyDrive/project6/\"\n",
        "    !zip -r \"/content/drive/MyDrive/project6/{time}.zip\" \"/content/{output_folder}\"\n",
        "\n",
        "def drive_load_checkpoint(input_folder, time):\n",
        "    drive_folder = \"/content/drive/MyDrive/project6/\"\n",
        "    !jar xvf \"/content/drive/MyDrive/project6/{time}.zip\"\n",
        "\n",
        "def drive_tester(output_folder):\n",
        "    drive_folder = \"/content/drive/MyDrive/project6/\"\n",
        "    if not os.path.exists(drive_folder):\n",
        "        !mkdir \"/content/drive/MyDrive/project6/\"\n",
        "    !touch \"/content/drive/MyDrive/project6/test\"\n",
        "\n",
        "    if os.path.exists(\"/content/drive/MyDrive/project6/test\"):\n",
        "        logging.info(\"Drive saving works\")\n",
        "    else:\n",
        "        logging.info(\"WARNING: Drive saving does not work\")\n",
        "\n",
        "# use this function when content on drive are not updated\n",
        "def drive_refresh():\n",
        "  drive.flush_and_unmount()\n",
        "  drive.mount('/content/drive')"
      ]
    },
    {
      "cell_type": "markdown",
      "metadata": {
        "id": "ZpbRF7uZxGAB"
      },
      "source": [
        "# Parameters"
      ]
    },
    {
      "cell_type": "markdown",
      "metadata": {
        "id": "-_UnO_6a0amb"
      },
      "source": [
        "Original code provides two main executable files: `train.py` and `eval.py`. We want to reproduce the same behaviour of these two files so these are the parameters passed via terminal. They will be put in a dict called `args` to simply reuse code inside ex files"
      ]
    },
    {
      "cell_type": "markdown",
      "metadata": {
        "id": "3tOcIQ1Fwni7"
      },
      "source": [
        "## Setup parameters"
      ]
    },
    {
      "cell_type": "code",
      "execution_count": 6,
      "metadata": {
        "id": "sI0BfY2_xGAB"
      },
      "outputs": [],
      "source": [
        "# CosPlace Groups parameters\n",
        "COS_M = 10\n",
        "ALPHA = 30\n",
        "COS_N = 5\n",
        "COS_L = 2\n",
        "GROUPS_NUM = 1\n",
        "MIN_IMAGES_PER_CLASS = 10\n",
        "# Model parameters\n",
        "BACKBONE = \"efficientnet_v2_s\"   \n",
        "# [\"resnet18\", \"efficientnet_b2\", \"efficientnet_v2_s\", \"mobilenet_v3_small\", \"mobilenet_v3_large\",\n",
        "# [\"convnext_tiny\", \"swin_tiny\" ]\n",
        "FC_OUTPUT_DIM = 512     # Output dimension of final fully connected layer\n",
        "PRETRAIN = \"imagenet\"   # [\"imagenet\", \"places\", \"gldv2\"]\n",
        "# Training parameters\n",
        "AUGMENTATION_DEVICE = \"cuda\"    # [\"cuda\", \"cpu\"]\n",
        "USE_AMP_16 = AUGMENTATION_DEVICE == \"cuda\"       # use Automatic Mixed Precision\n",
        "BATCH_SIZE = 32\n",
        "EPOCHS_NUM = 3\n",
        "ITERATIONS_PER_EPOCH = 10_000\n",
        "LR = 0.00001                    # Learning rate  \n",
        "CLASSIFIERS_LR = 0.01\n",
        "# Data augmentation\n",
        "BRIGHTNESS = 0.7\n",
        "CONTRAST = 0.7\n",
        "SATURATION = 0.7\n",
        "HUE = 0.5\n",
        "RANDOM_RESIZED_CROP = 0.5\n",
        "# Validation / test parameters\n",
        "INFER_BATCH_SIZE = 16           # Batch size for inference (validating and testing)\n",
        "POSITIVE_DIST_THRESHOLD = 25    # distance in meters for a prediction to be considered a positive\n",
        "# Resume parameters\n",
        "RESUME_TRAIN = None     # path to checkpoint to resume, e.g. logs/.../last_checkpoint.pth\n",
        "RESUME_MODEL = None     # Path to model to resume training from\n",
        "# Other parameters\n",
        "DEVICE = \"cuda\"                     # [\"cuda\", \"cpu\"]\n",
        "SEED = 0\n",
        "NUM_WORKERS = 8\n",
        "DATASET_FOLDER = \"/content/small\"   # path of the folder with train/val sets\n",
        "SAVEDIR = BACKBONE + \"_\" + PRETRAIN\n",
        "\n",
        "\n",
        "if not os.path.exists(DATASET_FOLDER):\n",
        "    raise FileNotFoundError(f\"Dataset folder {DATASET_FOLDER} not found\")\n",
        "\n",
        "train_set_folder = os.path.join(DATASET_FOLDER, \"train\")\n",
        "\n",
        "if not os.path.exists(train_set_folder):\n",
        "    raise FileNotFoundError(f\"Train set folder {train_set_folder} not found\")\n",
        "\n",
        "val_set_folder = os.path.join(DATASET_FOLDER, \"val\")\n",
        "\n",
        "if not os.path.exists(val_set_folder):\n",
        "    raise FileNotFoundError(f\"Validation set folder {val_set_folder} not found\")\n",
        "\n",
        "if BACKBONE != \"resnet18\" and PRETRAIN != \"imagenet\":\n",
        "    raise ValueError(\"Only resnet18 can be pretrained on other datasets than ImageNet\")\n",
        "\n",
        "# dictionary for the parameters\n",
        "args = {\n",
        "    'M': COS_M, 'alpha': ALPHA, 'N': COS_N, 'L': COS_L, 'groups_num': GROUPS_NUM,\n",
        "    'min_images_per_class': MIN_IMAGES_PER_CLASS, 'backbone': BACKBONE, \"pretrain\": PRETRAIN,\n",
        "    'fc_output_dim': FC_OUTPUT_DIM, 'use_amp16': USE_AMP_16,\n",
        "    'augmentation_device': AUGMENTATION_DEVICE, 'batch_size': BATCH_SIZE,\n",
        "    'epochs_num': EPOCHS_NUM, 'iterations_per_epoch': ITERATIONS_PER_EPOCH,\n",
        "    'lr': LR, 'classifiers_lr': CLASSIFIERS_LR, 'brightness': BRIGHTNESS,\n",
        "    'contrast': CONTRAST, 'hue': HUE, 'saturation': SATURATION,\n",
        "    'random_resized_crop': RANDOM_RESIZED_CROP, 'infer_batch_size': INFER_BATCH_SIZE,\n",
        "    'positive_dist_threshold': POSITIVE_DIST_THRESHOLD, 'resume_train': RESUME_TRAIN,\n",
        "    'resume_model': RESUME_MODEL, 'device': DEVICE, 'seed': SEED,\n",
        "    'num_workers': NUM_WORKERS, 'dataset_folder': DATASET_FOLDER, 'save_dir': SAVEDIR,\n",
        "    'val_set_folder': val_set_folder, 'train_set_folder': train_set_folder,\n",
        "}\n",
        "\n",
        "# this helps to reuse the code from the original CosPlace\n",
        "args = dotdict(args)\n"
      ]
    },
    {
      "cell_type": "code",
      "execution_count": 7,
      "metadata": {
        "id": "7BWPEBmCkLY7"
      },
      "outputs": [],
      "source": [
        "saveDirLocal = SAVEDIR"
      ]
    },
    {
      "cell_type": "markdown",
      "metadata": {
        "id": "weAbHrt3PsA3"
      },
      "source": [
        "# Setup logging"
      ]
    },
    {
      "cell_type": "code",
      "execution_count": 8,
      "metadata": {
        "colab": {
          "base_uri": "https://localhost:8080/"
        },
        "id": "VF4OSAc0PsA3",
        "outputId": "bb9d9843-9c5a-42a5-ff57-8aabc6b3b138"
      },
      "outputs": [
        {
          "output_type": "stream",
          "name": "stderr",
          "text": [
            "INFO:root:/usr/local/lib/python3.8/dist-packages/ipykernel_launcher.py -f /root/.local/share/jupyter/runtime/kernel-0a8bc083-fd9d-4087-870b-1d38f294a8c1.json\n",
            "INFO:root:Arguments: {'M': 10, 'alpha': 30, 'N': 5, 'L': 2, 'groups_num': 1, 'min_images_per_class': 10, 'backbone': 'efficientnet_v2_s', 'pretrain': 'imagenet', 'fc_output_dim': 512, 'use_amp16': True, 'augmentation_device': 'cuda', 'batch_size': 32, 'epochs_num': 3, 'iterations_per_epoch': 10000, 'lr': 1e-05, 'classifiers_lr': 0.01, 'brightness': 0.7, 'contrast': 0.7, 'hue': 0.5, 'saturation': 0.7, 'random_resized_crop': 0.5, 'infer_batch_size': 16, 'positive_dist_threshold': 25, 'resume_train': None, 'resume_model': None, 'device': 'cuda', 'seed': 0, 'num_workers': 8, 'dataset_folder': '/content/small', 'save_dir': 'efficientnet_v2_s_imagenet', 'val_set_folder': '/content/small/val', 'train_set_folder': '/content/small/train'}\n",
            "INFO:root:The outputs are being saved in logs/efficientnet_v2_s_imagenet/2023-02-05_17-43-21\n"
          ]
        }
      ],
      "source": [
        "from CosPlace import commons\n",
        "\n",
        "start_time = datetime.now()\n",
        "output_folder = f\"logs/{args.save_dir}/{start_time.strftime('%Y-%m-%d_%H-%M-%S')}\"\n",
        "commons.make_deterministic(args.seed)\n",
        "commons.setup_logging(output_folder, console=None)\n",
        "logging.info(\" \".join(sys.argv))\n",
        "logging.info(f\"Arguments: {args}\")\n",
        "logging.info(f\"The outputs are being saved in {output_folder}\")"
      ]
    },
    {
      "cell_type": "markdown",
      "metadata": {
        "id": "Y5jJf7v5Ox91"
      },
      "source": [
        "# Test"
      ]
    },
    {
      "cell_type": "markdown",
      "source": [
        "## Testing of To Day GAN"
      ],
      "metadata": {
        "id": "1brR_Csx3sX-"
      }
    },
    {
      "cell_type": "code",
      "source": [
        "#This is the code that was used to generate tokyo-night-5 and tokyo-night-6.\n",
        "#It's been put here rather than on top of the notebook because it belongs to the test section\n",
        "\n",
        "if use_mount:\n",
        "  path = \"/content/drive/MyDrive/project6/today_checkpoints\"\n",
        "else:\n",
        "  id = \"1c6x4kT4fYYGbCjnS-JVUF5bqMiYnnNrv\"\n",
        "  download(id, quiet=False)                           # download from our gdrive\n",
        "  !jar xvf \"/content/today_checkpoints.zip\"                    # unzip\n",
        "  !rm -r \"/content/today_checkpoints.zip\"\n",
        "  path = \"/content/today_checkpoints\"\n",
        "\n",
        "\n",
        "\n",
        "!python /content/Team/ToDayGAN/test.py --phase test/queries --serial_test --name mytest_test --dataroot \"/content/tokyo-night/\" --n_domains 2 --which_epoch 150 --loadSize 512 --checkpoints_dir {path}"
      ],
      "metadata": {
        "id": "jDS4rMxY3uj1",
        "colab": {
          "base_uri": "https://localhost:8080/"
        },
        "outputId": "1466ff53-1a48-4693-9b28-f91e246ba387"
      },
      "execution_count": 9,
      "outputs": [
        {
          "output_type": "stream",
          "name": "stderr",
          "text": [
            "DEBUG:urllib3.connectionpool:Starting new HTTPS connection (1): drive.google.com:443\n",
            "DEBUG:urllib3.connectionpool:https://drive.google.com:443 \"GET /uc?export=download&confirm=pbef&id=1c6x4kT4fYYGbCjnS-JVUF5bqMiYnnNrv HTTP/1.1\" 303 0\n",
            "DEBUG:urllib3.connectionpool:Starting new HTTPS connection (1): doc-0g-5s-docs.googleusercontent.com:443\n",
            "DEBUG:urllib3.connectionpool:https://doc-0g-5s-docs.googleusercontent.com:443 \"GET /docs/securesc/ha0ro937gcuc7l7deffksulhg5h7mbp1/0i8lf06geihop2r0o7sl0uueonl5b5vu/1675618950000/07243840876790409664/*/1c6x4kT4fYYGbCjnS-JVUF5bqMiYnnNrv?e=download&uuid=7dbf30ca-5a4f-4a7b-a258-80fac087c119 HTTP/1.1\" 200 210579281\n",
            "Downloading...\n",
            "From: https://drive.google.com/uc?export=download&confirm=pbef&id=1c6x4kT4fYYGbCjnS-JVUF5bqMiYnnNrv\n",
            "To: /content/today_checkpoints.zip\n",
            "100%|██████████| 211M/211M [00:00<00:00, 277MB/s]\n"
          ]
        },
        {
          "output_type": "stream",
          "name": "stdout",
          "text": [
            "  created: today_checkpoints/mytest_test/.ipynb_checkpoints/\n",
            " inflated: today_checkpoints/mytest_test/opt.txt\n",
            " inflated: today_checkpoints/mytest_test/loss_log.txt\n",
            " inflated: today_checkpoints/mytest_test/150_net_D0.pth\n",
            " inflated: today_checkpoints/mytest_test/150_net_G2.pth\n",
            " inflated: today_checkpoints/mytest_test/150_net_G1.pth\n",
            " inflated: today_checkpoints/mytest_test/150_net_G3.pth\n",
            " inflated: today_checkpoints/mytest_test/150_net_D1.pth\n",
            " inflated: today_checkpoints/mytest_test/150_net_G0.pth\n",
            "------------ Options -------------\n",
            "aspect_ratio: 1.0\n",
            "autoencode: False\n",
            "batchSize: 1\n",
            "checkpoints_dir: /content/today_checkpoints\n",
            "dataroot: /content/tokyo-night/\n",
            "display_id: 0\n",
            "display_port: 8097\n",
            "display_single_pane_ncols: 0\n",
            "display_winsize: 256\n",
            "fineSize: 256\n",
            "gpu_ids: [0]\n",
            "how_many: 50\n",
            "input_nc: 3\n",
            "isTrain: False\n",
            "loadSize: 512\n",
            "max_dataset_size: inf\n",
            "nThreads: 2\n",
            "n_domains: 2\n",
            "name: mytest_test\n",
            "ndf: 64\n",
            "netD_n_layers: 4\n",
            "netG_n_blocks: 9\n",
            "netG_n_shared: 0\n",
            "ngf: 64\n",
            "no_flip: False\n",
            "norm: instance\n",
            "output_nc: 3\n",
            "phase: test/queries\n",
            "reconstruct: False\n",
            "resize_or_crop: resize_and_crop\n",
            "results_dir: ./results/\n",
            "serial_test: True\n",
            "show_matrix: False\n",
            "use_dropout: False\n",
            "which_epoch: 150\n",
            "-------------- End ----------------\n",
            "/usr/local/lib/python3.8/dist-packages/torchvision/transforms/transforms.py:329: UserWarning: Argument 'interpolation' of type int is deprecated since 0.13 and will be removed in 0.15. Please use InterpolationMode enum.\n",
            "  warnings.warn(\n",
            "---------- Networks initialized -------------\n",
            "ResnetGenEncoder(\n",
            "  (model): Sequential(\n",
            "    (0): ReflectionPad2d((3, 3, 3, 3))\n",
            "    (1): Conv2d(3, 64, kernel_size=(7, 7), stride=(1, 1))\n",
            "    (2): InstanceNorm2d(64, eps=1e-05, momentum=0.1, affine=False, track_running_stats=False)\n",
            "    (3): PReLU(num_parameters=1)\n",
            "    (4): Conv2d(64, 128, kernel_size=(3, 3), stride=(2, 2), padding=(1, 1))\n",
            "    (5): InstanceNorm2d(128, eps=1e-05, momentum=0.1, affine=False, track_running_stats=False)\n",
            "    (6): PReLU(num_parameters=1)\n",
            "    (7): Conv2d(128, 256, kernel_size=(3, 3), stride=(2, 2), padding=(1, 1))\n",
            "    (8): InstanceNorm2d(256, eps=1e-05, momentum=0.1, affine=False, track_running_stats=False)\n",
            "    (9): PReLU(num_parameters=1)\n",
            "    (10): ResnetBlock(\n",
            "      (conv_block): SequentialContext(\n",
            "        (0): ReflectionPad2d((1, 1, 1, 1))\n",
            "        (1): Conv2d(256, 256, kernel_size=(3, 3), stride=(1, 1))\n",
            "        (2): InstanceNorm2d(256, eps=1e-05, momentum=0.1, affine=False, track_running_stats=False)\n",
            "        (3): PReLU(num_parameters=1)\n",
            "        (4): ReflectionPad2d((1, 1, 1, 1))\n",
            "        (5): Conv2d(256, 256, kernel_size=(3, 3), stride=(1, 1))\n",
            "        (6): InstanceNorm2d(256, eps=1e-05, momentum=0.1, affine=False, track_running_stats=False)\n",
            "      )\n",
            "    )\n",
            "    (11): ResnetBlock(\n",
            "      (conv_block): SequentialContext(\n",
            "        (0): ReflectionPad2d((1, 1, 1, 1))\n",
            "        (1): Conv2d(256, 256, kernel_size=(3, 3), stride=(1, 1))\n",
            "        (2): InstanceNorm2d(256, eps=1e-05, momentum=0.1, affine=False, track_running_stats=False)\n",
            "        (3): PReLU(num_parameters=1)\n",
            "        (4): ReflectionPad2d((1, 1, 1, 1))\n",
            "        (5): Conv2d(256, 256, kernel_size=(3, 3), stride=(1, 1))\n",
            "        (6): InstanceNorm2d(256, eps=1e-05, momentum=0.1, affine=False, track_running_stats=False)\n",
            "      )\n",
            "    )\n",
            "    (12): ResnetBlock(\n",
            "      (conv_block): SequentialContext(\n",
            "        (0): ReflectionPad2d((1, 1, 1, 1))\n",
            "        (1): Conv2d(256, 256, kernel_size=(3, 3), stride=(1, 1))\n",
            "        (2): InstanceNorm2d(256, eps=1e-05, momentum=0.1, affine=False, track_running_stats=False)\n",
            "        (3): PReLU(num_parameters=1)\n",
            "        (4): ReflectionPad2d((1, 1, 1, 1))\n",
            "        (5): Conv2d(256, 256, kernel_size=(3, 3), stride=(1, 1))\n",
            "        (6): InstanceNorm2d(256, eps=1e-05, momentum=0.1, affine=False, track_running_stats=False)\n",
            "      )\n",
            "    )\n",
            "    (13): ResnetBlock(\n",
            "      (conv_block): SequentialContext(\n",
            "        (0): ReflectionPad2d((1, 1, 1, 1))\n",
            "        (1): Conv2d(256, 256, kernel_size=(3, 3), stride=(1, 1))\n",
            "        (2): InstanceNorm2d(256, eps=1e-05, momentum=0.1, affine=False, track_running_stats=False)\n",
            "        (3): PReLU(num_parameters=1)\n",
            "        (4): ReflectionPad2d((1, 1, 1, 1))\n",
            "        (5): Conv2d(256, 256, kernel_size=(3, 3), stride=(1, 1))\n",
            "        (6): InstanceNorm2d(256, eps=1e-05, momentum=0.1, affine=False, track_running_stats=False)\n",
            "      )\n",
            "    )\n",
            "  )\n",
            ")\n",
            "ResnetGenDecoder(\n",
            "  (model): Sequential(\n",
            "    (0): ResnetBlock(\n",
            "      (conv_block): SequentialContext(\n",
            "        (0): ReflectionPad2d((1, 1, 1, 1))\n",
            "        (1): Conv2d(256, 256, kernel_size=(3, 3), stride=(1, 1))\n",
            "        (2): InstanceNorm2d(256, eps=1e-05, momentum=0.1, affine=False, track_running_stats=False)\n",
            "        (3): PReLU(num_parameters=1)\n",
            "        (4): ReflectionPad2d((1, 1, 1, 1))\n",
            "        (5): Conv2d(256, 256, kernel_size=(3, 3), stride=(1, 1))\n",
            "        (6): InstanceNorm2d(256, eps=1e-05, momentum=0.1, affine=False, track_running_stats=False)\n",
            "      )\n",
            "    )\n",
            "    (1): ResnetBlock(\n",
            "      (conv_block): SequentialContext(\n",
            "        (0): ReflectionPad2d((1, 1, 1, 1))\n",
            "        (1): Conv2d(256, 256, kernel_size=(3, 3), stride=(1, 1))\n",
            "        (2): InstanceNorm2d(256, eps=1e-05, momentum=0.1, affine=False, track_running_stats=False)\n",
            "        (3): PReLU(num_parameters=1)\n",
            "        (4): ReflectionPad2d((1, 1, 1, 1))\n",
            "        (5): Conv2d(256, 256, kernel_size=(3, 3), stride=(1, 1))\n",
            "        (6): InstanceNorm2d(256, eps=1e-05, momentum=0.1, affine=False, track_running_stats=False)\n",
            "      )\n",
            "    )\n",
            "    (2): ResnetBlock(\n",
            "      (conv_block): SequentialContext(\n",
            "        (0): ReflectionPad2d((1, 1, 1, 1))\n",
            "        (1): Conv2d(256, 256, kernel_size=(3, 3), stride=(1, 1))\n",
            "        (2): InstanceNorm2d(256, eps=1e-05, momentum=0.1, affine=False, track_running_stats=False)\n",
            "        (3): PReLU(num_parameters=1)\n",
            "        (4): ReflectionPad2d((1, 1, 1, 1))\n",
            "        (5): Conv2d(256, 256, kernel_size=(3, 3), stride=(1, 1))\n",
            "        (6): InstanceNorm2d(256, eps=1e-05, momentum=0.1, affine=False, track_running_stats=False)\n",
            "      )\n",
            "    )\n",
            "    (3): ResnetBlock(\n",
            "      (conv_block): SequentialContext(\n",
            "        (0): ReflectionPad2d((1, 1, 1, 1))\n",
            "        (1): Conv2d(256, 256, kernel_size=(3, 3), stride=(1, 1))\n",
            "        (2): InstanceNorm2d(256, eps=1e-05, momentum=0.1, affine=False, track_running_stats=False)\n",
            "        (3): PReLU(num_parameters=1)\n",
            "        (4): ReflectionPad2d((1, 1, 1, 1))\n",
            "        (5): Conv2d(256, 256, kernel_size=(3, 3), stride=(1, 1))\n",
            "        (6): InstanceNorm2d(256, eps=1e-05, momentum=0.1, affine=False, track_running_stats=False)\n",
            "      )\n",
            "    )\n",
            "    (4): ResnetBlock(\n",
            "      (conv_block): SequentialContext(\n",
            "        (0): ReflectionPad2d((1, 1, 1, 1))\n",
            "        (1): Conv2d(256, 256, kernel_size=(3, 3), stride=(1, 1))\n",
            "        (2): InstanceNorm2d(256, eps=1e-05, momentum=0.1, affine=False, track_running_stats=False)\n",
            "        (3): PReLU(num_parameters=1)\n",
            "        (4): ReflectionPad2d((1, 1, 1, 1))\n",
            "        (5): Conv2d(256, 256, kernel_size=(3, 3), stride=(1, 1))\n",
            "        (6): InstanceNorm2d(256, eps=1e-05, momentum=0.1, affine=False, track_running_stats=False)\n",
            "      )\n",
            "    )\n",
            "    (5): ConvTranspose2d(256, 128, kernel_size=(4, 4), stride=(2, 2), padding=(1, 1))\n",
            "    (6): InstanceNorm2d(128, eps=1e-05, momentum=0.1, affine=False, track_running_stats=False)\n",
            "    (7): PReLU(num_parameters=1)\n",
            "    (8): ConvTranspose2d(128, 64, kernel_size=(4, 4), stride=(2, 2), padding=(1, 1))\n",
            "    (9): InstanceNorm2d(64, eps=1e-05, momentum=0.1, affine=False, track_running_stats=False)\n",
            "    (10): PReLU(num_parameters=1)\n",
            "    (11): ReflectionPad2d((3, 3, 3, 3))\n",
            "    (12): Conv2d(64, 3, kernel_size=(7, 7), stride=(1, 1))\n",
            "    (13): Tanh()\n",
            "  )\n",
            ")\n",
            "Created 2 Encoder-Decoder pairs\n",
            "Number of parameters per Encoder: 5099143\n",
            "Number of parameters per Deocder: 6565770\n",
            "-----------------------------------------------\n",
            "process image... ['/content/tokyo-night/test/queries/@0381523.71@3946790.15@54@S@035.65786@0139.69112@00687.jpg@@@@@@@@.jpg']\n",
            "process image... ['/content/tokyo-night/test/queries/@0381523.71@3946790.15@54@S@035.65786@0139.69112@00690.jpg@@@@@@@@.jpg']\n",
            "process image... ['/content/tokyo-night/test/queries/@0381523.71@3946790.15@54@S@035.65786@0139.69112@00693.jpg@@@@@@@@.jpg']\n",
            "process image... ['/content/tokyo-night/test/queries/@0381548.01@3946636.62@54@S@035.65647@0139.69141@00732.jpg@@@@@@@@.jpg']\n",
            "process image... ['/content/tokyo-night/test/queries/@0381548.01@3946636.62@54@S@035.65647@0139.69141@00735.jpg@@@@@@@@.jpg']\n",
            "process image... ['/content/tokyo-night/test/queries/@0381548.01@3946636.62@54@S@035.65647@0139.69141@00738.jpg@@@@@@@@.jpg']\n",
            "process image... ['/content/tokyo-night/test/queries/@0381654.35@3946435.74@54@S@035.65468@0139.69262@00381.jpg@@@@@@@@.jpg']\n",
            "process image... ['/content/tokyo-night/test/queries/@0381654.35@3946435.74@54@S@035.65468@0139.69262@00384.jpg@@@@@@@@.jpg']\n",
            "process image... ['/content/tokyo-night/test/queries/@0381654.35@3946435.74@54@S@035.65468@0139.69262@00387.jpg@@@@@@@@.jpg']\n",
            "process image... ['/content/tokyo-night/test/queries/@0381807.40@3946274.62@54@S@035.65324@0139.69433@00390.jpg@@@@@@@@.jpg']\n",
            "process image... ['/content/tokyo-night/test/queries/@0381807.40@3946274.62@54@S@035.65324@0139.69433@00393.jpg@@@@@@@@.jpg']\n",
            "process image... ['/content/tokyo-night/test/queries/@0381807.40@3946274.62@54@S@035.65324@0139.69433@00396.jpg@@@@@@@@.jpg']\n",
            "process image... ['/content/tokyo-night/test/queries/@0381888.16@3946594.82@54@S@035.65614@0139.69518@00039.jpg@@@@@@@@.jpg']\n",
            "process image... ['/content/tokyo-night/test/queries/@0381888.16@3946594.82@54@S@035.65614@0139.69518@00041.jpg@@@@@@@@.jpg']\n",
            "process image... ['/content/tokyo-night/test/queries/@0381888.16@3946594.82@54@S@035.65614@0139.69518@00045.jpg@@@@@@@@.jpg']\n",
            "process image... ['/content/tokyo-night/test/queries/@0381904.46@3946329.36@54@S@035.65375@0139.69540@00399.jpg@@@@@@@@.jpg']\n",
            "process image... ['/content/tokyo-night/test/queries/@0381904.46@3946329.36@54@S@035.65375@0139.69540@00402.jpg@@@@@@@@.jpg']\n",
            "process image... ['/content/tokyo-night/test/queries/@0381904.46@3946329.36@54@S@035.65375@0139.69540@00405.jpg@@@@@@@@.jpg']\n",
            "process image... ['/content/tokyo-night/test/queries/@0381909.70@3946894.18@54@S@035.65884@0139.69537@00048.jpg@@@@@@@@.jpg']\n",
            "process image... ['/content/tokyo-night/test/queries/@0381909.70@3946894.18@54@S@035.65884@0139.69537@00051.jpg@@@@@@@@.jpg']\n",
            "process image... ['/content/tokyo-night/test/queries/@0381909.70@3946894.18@54@S@035.65884@0139.69537@00054.jpg@@@@@@@@.jpg']\n",
            "process image... ['/content/tokyo-night/test/queries/@0381919.30@3947017.64@54@S@035.65995@0139.69546@00056.jpg@@@@@@@@.jpg']\n",
            "process image... ['/content/tokyo-night/test/queries/@0381919.30@3947017.64@54@S@035.65995@0139.69546@00060.jpg@@@@@@@@.jpg']\n",
            "process image... ['/content/tokyo-night/test/queries/@0381919.30@3947017.64@54@S@035.65995@0139.69546@00063.jpg@@@@@@@@.jpg']\n",
            "process image... ['/content/tokyo-night/test/queries/@0381994.26@3946757.71@54@S@035.65762@0139.69633@00030.jpg@@@@@@@@.jpg']\n",
            "process image... ['/content/tokyo-night/test/queries/@0381994.26@3946757.71@54@S@035.65762@0139.69633@00032.jpg@@@@@@@@.jpg']\n",
            "process image... ['/content/tokyo-night/test/queries/@0381994.26@3946757.71@54@S@035.65762@0139.69633@00036.jpg@@@@@@@@.jpg']\n",
            "process image... ['/content/tokyo-night/test/queries/@0381996.23@3946442.07@54@S@035.65477@0139.69639@00408.jpg@@@@@@@@.jpg']\n",
            "process image... ['/content/tokyo-night/test/queries/@0381996.23@3946442.07@54@S@035.65477@0139.69639@00411.jpg@@@@@@@@.jpg']\n",
            "process image... ['/content/tokyo-night/test/queries/@0381996.23@3946442.07@54@S@035.65477@0139.69639@00414.jpg@@@@@@@@.jpg']\n",
            "process image... ['/content/tokyo-night/test/queries/@0382063.64@3946397.80@54@S@035.65438@0139.69714@00417.jpg@@@@@@@@.jpg']\n",
            "process image... ['/content/tokyo-night/test/queries/@0382063.64@3946397.80@54@S@035.65438@0139.69714@00420.jpg@@@@@@@@.jpg']\n",
            "process image... ['/content/tokyo-night/test/queries/@0382063.64@3946397.80@54@S@035.65438@0139.69714@00423.jpg@@@@@@@@.jpg']\n",
            "process image... ['/content/tokyo-night/test/queries/@0382076.70@3947171.52@54@S@035.66136@0139.69718@00210.jpg@@@@@@@@.jpg']\n",
            "process image... ['/content/tokyo-night/test/queries/@0382076.70@3947171.52@54@S@035.66136@0139.69718@00213.jpg@@@@@@@@.jpg']\n",
            "process image... ['/content/tokyo-night/test/queries/@0382076.70@3947171.52@54@S@035.66136@0139.69718@00216.jpg@@@@@@@@.jpg']\n",
            "process image... ['/content/tokyo-night/test/queries/@0382093.39@3947255.39@54@S@035.66212@0139.69735@00219.jpg@@@@@@@@.jpg']\n",
            "process image... ['/content/tokyo-night/test/queries/@0382093.39@3947255.39@54@S@035.66212@0139.69735@00222.jpg@@@@@@@@.jpg']\n",
            "process image... ['/content/tokyo-night/test/queries/@0382093.39@3947255.39@54@S@035.66212@0139.69735@00225.jpg@@@@@@@@.jpg']\n",
            "process image... ['/content/tokyo-night/test/queries/@0382125.73@3947209.48@54@S@035.66171@0139.69771@00201.jpg@@@@@@@@.jpg']\n",
            "process image... ['/content/tokyo-night/test/queries/@0382125.73@3947209.48@54@S@035.66171@0139.69771@00204.jpg@@@@@@@@.jpg']\n",
            "process image... ['/content/tokyo-night/test/queries/@0382125.73@3947209.48@54@S@035.66171@0139.69771@00207.jpg@@@@@@@@.jpg']\n",
            "process image... ['/content/tokyo-night/test/queries/@0382138.93@3947132.54@54@S@035.66102@0139.69787@00084.jpg@@@@@@@@.jpg']\n",
            "process image... ['/content/tokyo-night/test/queries/@0382138.93@3947132.54@54@S@035.66102@0139.69787@00087.jpg@@@@@@@@.jpg']\n",
            "process image... ['/content/tokyo-night/test/queries/@0382138.93@3947132.54@54@S@035.66102@0139.69787@00090.jpg@@@@@@@@.jpg']\n",
            "Traceback (most recent call last):\n",
            "  File \"/content/Team/ToDayGAN/test.py\", line 29, in <module>\n",
            "    visuals = model.get_current_visuals(testing=True)\n",
            "  File \"/content/Team/ToDayGAN/models/combogan_model.py\", line 184, in get_current_visuals\n",
            "    images = [util.tensor2im(v.data) for v in self.visuals]\n",
            "  File \"/content/Team/ToDayGAN/models/combogan_model.py\", line 184, in <listcomp>\n",
            "    images = [util.tensor2im(v.data) for v in self.visuals]\n",
            "  File \"/content/Team/ToDayGAN/util/util.py\", line 13, in tensor2im\n",
            "    image_numpy = image_tensor[0].cpu().float().numpy()\n",
            "KeyboardInterrupt\n",
            "^C\n"
          ]
        }
      ]
    },
    {
      "cell_type": "code",
      "source": [
        "if use_mount:\n",
        "  !mv \"/content/results\" \"/content/drive/MyDrive/project6/results\""
      ],
      "metadata": {
        "id": "S8MDXHKcBG_Q"
      },
      "execution_count": null,
      "outputs": []
    },
    {
      "cell_type": "markdown",
      "metadata": {
        "id": "6ItObSaBl6ox"
      },
      "source": [
        "## Import model"
      ]
    },
    {
      "cell_type": "code",
      "execution_count": null,
      "metadata": {
        "id": "i0MTzNnskLZB"
      },
      "outputs": [],
      "source": [
        "# default is the one just trained\n",
        "resume_model = f\"/content/drive/MyDrive/project6/best_model.pth\""
      ]
    },
    {
      "cell_type": "code",
      "execution_count": null,
      "metadata": {
        "colab": {
          "base_uri": "https://localhost:8080/"
        },
        "id": "KzJGjw9xxGAE",
        "outputId": "05887a7a-14ea-4ee9-c880-4f59391ae55f"
      },
      "outputs": [
        {
          "output_type": "stream",
          "name": "stderr",
          "text": [
            "DEBUG:root:Train last two layers of EfficientNet, freeze the previous ones\n",
            "INFO:root:There are 1 GPUs and 2 CPUs.\n",
            "INFO:root:Loading model from /content/drive/MyDrive/project6/best_model.pth\n"
          ]
        }
      ],
      "source": [
        "\n",
        "from CosPlace import datasets, test\n",
        "from Team.model import network\n",
        "from datasets.test_dataset import TestDataset\n",
        "\n",
        "#### Model\n",
        "model = network.GeoLocalizationNetV2(args.backbone, args.fc_output_dim, args.pretrain)\n",
        "\n",
        "logging.info(f\"There are {torch.cuda.device_count()} GPUs and {multiprocessing.cpu_count()} CPUs.\")\n",
        "\n",
        "if args.resume_model is not None:\n",
        "  if os.path.exists(args.resume_model):\n",
        "    resume_model = args.resume_model\n",
        "\n",
        "if resume_model is not None:\n",
        "  if not os.path.exists(resume_model):\n",
        "    raise FileNotFoundError(f\"Model {resume_model} not found.\")\n",
        "\n",
        "  logging.info(f\"Loading model from {resume_model}\")\n",
        "  model_state_dict = torch.load(resume_model)\n",
        "  model.load_state_dict(model_state_dict)\n",
        "else:\n",
        "    logging.info(\"WARNING: You didn't provide a path to resume the model (--resume_model parameter). \" +\n",
        "                 \"Evaluation will be computed using randomly initialized weights.\")\n",
        "\n",
        "model = model.to(args.device)"
      ]
    },
    {
      "cell_type": "markdown",
      "metadata": {
        "id": "h0tHKhzeweIZ"
      },
      "source": [
        "## Test on Tokyo-Night AUGMENTATION 5"
      ]
    },
    {
      "cell_type": "markdown",
      "metadata": {
        "id": "FTc8pkpuweIa"
      },
      "source": [
        "Test the model on the tokyo-night CONVERTED TO DAY dataset."
      ]
    },
    {
      "cell_type": "code",
      "execution_count": null,
      "metadata": {
        "colab": {
          "base_uri": "https://localhost:8080/"
        },
        "id": "H9Vzh7YNQrQa",
        "outputId": "1d70c7d9-2d56-4f20-9d17-a128ba9102e2"
      },
      "outputs": [
        {
          "output_type": "stream",
          "name": "stderr",
          "text": [
            "DEBUG:root:Extracting database descriptors for evaluation/testing\n",
            "/usr/local/lib/python3.8/dist-packages/torch/utils/data/dataloader.py:554: UserWarning: This DataLoader will create 8 worker processes in total. Our suggested max number of worker in current system is 2, which is smaller than what this DataLoader is going to create. Please be aware that excessive worker creation might get DataLoader running slow or even freeze, lower the worker number to avoid potential slowness/freeze if necessary.\n",
            "  warnings.warn(_create_warning_msg(\n",
            "100%|█████████████████████████████████████████████████████████████| 799/799 [03:58<00:00,  3.35it/s]\n",
            "DEBUG:root:Extracting queries descriptors for evaluation/testing using batch size 1\n",
            "  0%|                                                                       | 0/105 [00:00<?, ?it/s]DEBUG:PIL.PngImagePlugin:STREAM b'IHDR' 16 13\n",
            "DEBUG:PIL.PngImagePlugin:STREAM b'IHDR' 16 13\n",
            "DEBUG:PIL.PngImagePlugin:STREAM b'IHDR' 16 13\n",
            "DEBUG:PIL.PngImagePlugin:STREAM b'IDAT' 41 65536\n",
            "DEBUG:PIL.PngImagePlugin:STREAM b'IDAT' 41 65536\n",
            "DEBUG:PIL.PngImagePlugin:STREAM b'IDAT' 41 65536\n",
            "DEBUG:PIL.PngImagePlugin:STREAM b'IHDR' 16 13\n",
            "DEBUG:PIL.PngImagePlugin:STREAM b'IDAT' 41 65536\n",
            "DEBUG:PIL.PngImagePlugin:STREAM b'IHDR' 16 13\n",
            "DEBUG:PIL.PngImagePlugin:STREAM b'IHDR' 16 13\n",
            "DEBUG:PIL.PngImagePlugin:STREAM b'IHDR' 16 13\n",
            "DEBUG:PIL.PngImagePlugin:STREAM b'IDAT' 41 65536\n",
            "DEBUG:PIL.PngImagePlugin:STREAM b'IDAT' 41 65536\n",
            "DEBUG:PIL.PngImagePlugin:STREAM b'IDAT' 41 65536\n",
            "DEBUG:PIL.PngImagePlugin:STREAM b'IHDR' 16 13\n",
            "DEBUG:PIL.PngImagePlugin:STREAM b'IDAT' 41 65536\n",
            "DEBUG:PIL.PngImagePlugin:STREAM b'IHDR' 16 13\n",
            "DEBUG:PIL.PngImagePlugin:STREAM b'IDAT' 41 65536\n",
            "DEBUG:PIL.PngImagePlugin:STREAM b'IHDR' 16 13\n",
            "DEBUG:PIL.PngImagePlugin:STREAM b'IDAT' 41 65536\n",
            "DEBUG:PIL.PngImagePlugin:STREAM b'IHDR' 16 13\n",
            "DEBUG:PIL.PngImagePlugin:STREAM b'IHDR' 16 13\n",
            "DEBUG:PIL.PngImagePlugin:STREAM b'IHDR' 16 13\n",
            "DEBUG:PIL.PngImagePlugin:STREAM b'IDAT' 41 65536\n",
            "DEBUG:PIL.PngImagePlugin:STREAM b'IDAT' 41 65536\n",
            "DEBUG:PIL.PngImagePlugin:STREAM b'IDAT' 41 65536\n",
            "DEBUG:PIL.PngImagePlugin:STREAM b'IHDR' 16 13\n",
            "DEBUG:PIL.PngImagePlugin:STREAM b'IHDR' 16 13\n",
            "DEBUG:PIL.PngImagePlugin:STREAM b'IDAT' 41 65536\n",
            "DEBUG:PIL.PngImagePlugin:STREAM b'IDAT' 41 65536\n",
            "DEBUG:PIL.PngImagePlugin:STREAM b'IHDR' 16 13\n",
            "DEBUG:PIL.PngImagePlugin:STREAM b'IDAT' 41 65536\n",
            "DEBUG:PIL.PngImagePlugin:STREAM b'IHDR' 16 13\n",
            "DEBUG:PIL.PngImagePlugin:STREAM b'IDAT' 41 65536\n",
            "  1%|▌                                                              | 1/105 [00:00<01:41,  1.03it/s]DEBUG:PIL.PngImagePlugin:STREAM b'IHDR' 16 13\n",
            "DEBUG:PIL.PngImagePlugin:STREAM b'IDAT' 41 65536\n",
            "DEBUG:PIL.PngImagePlugin:STREAM b'IHDR' 16 13\n",
            "DEBUG:PIL.PngImagePlugin:STREAM b'IDAT' 41 65536\n",
            "  3%|█▊                                                             | 3/105 [00:01<00:29,  3.45it/s]DEBUG:PIL.PngImagePlugin:STREAM b'IHDR' 16 13\n",
            "DEBUG:PIL.PngImagePlugin:STREAM b'IDAT' 41 65536\n",
            "DEBUG:PIL.PngImagePlugin:STREAM b'IHDR' 16 13\n",
            "DEBUG:PIL.PngImagePlugin:STREAM b'IDAT' 41 65536\n",
            "  5%|███                                                            | 5/105 [00:01<00:16,  5.92it/s]DEBUG:PIL.PngImagePlugin:STREAM b'IHDR' 16 13\n",
            "DEBUG:PIL.PngImagePlugin:STREAM b'IDAT' 41 65536\n",
            "DEBUG:PIL.PngImagePlugin:STREAM b'IHDR' 16 13\n",
            "DEBUG:PIL.PngImagePlugin:STREAM b'IDAT' 41 65536\n",
            "  7%|████▏                                                          | 7/105 [00:01<00:11,  8.39it/s]DEBUG:PIL.PngImagePlugin:STREAM b'IHDR' 16 13\n",
            "DEBUG:PIL.PngImagePlugin:STREAM b'IDAT' 41 65536\n",
            "DEBUG:PIL.PngImagePlugin:STREAM b'IHDR' 16 13\n",
            "DEBUG:PIL.PngImagePlugin:STREAM b'IDAT' 41 65536\n",
            "DEBUG:PIL.PngImagePlugin:STREAM b'IHDR' 16 13\n",
            "DEBUG:PIL.PngImagePlugin:STREAM b'IDAT' 41 65536\n",
            " 10%|█████▉                                                        | 10/105 [00:01<00:08, 11.67it/s]DEBUG:PIL.PngImagePlugin:STREAM b'IHDR' 16 13\n",
            "DEBUG:PIL.PngImagePlugin:STREAM b'IDAT' 41 65536\n",
            "DEBUG:PIL.PngImagePlugin:STREAM b'IHDR' 16 13\n",
            "DEBUG:PIL.PngImagePlugin:STREAM b'IDAT' 41 65536\n",
            " 11%|███████                                                       | 12/105 [00:01<00:06, 13.29it/s]DEBUG:PIL.PngImagePlugin:STREAM b'IHDR' 16 13\n",
            "DEBUG:PIL.PngImagePlugin:STREAM b'IDAT' 41 65536\n",
            "DEBUG:PIL.PngImagePlugin:STREAM b'IHDR' 16 13\n",
            "DEBUG:PIL.PngImagePlugin:STREAM b'IDAT' 41 65536\n",
            " 13%|████████▎                                                     | 14/105 [00:01<00:06, 14.79it/s]DEBUG:PIL.PngImagePlugin:STREAM b'IHDR' 16 13\n",
            "DEBUG:PIL.PngImagePlugin:STREAM b'IDAT' 41 65536\n",
            "DEBUG:PIL.PngImagePlugin:STREAM b'IHDR' 16 13\n",
            "DEBUG:PIL.PngImagePlugin:STREAM b'IDAT' 41 65536\n",
            " 15%|█████████▍                                                    | 16/105 [00:01<00:05, 15.88it/s]DEBUG:PIL.PngImagePlugin:STREAM b'IHDR' 16 13\n",
            "DEBUG:PIL.PngImagePlugin:STREAM b'IDAT' 41 65536\n",
            "DEBUG:PIL.PngImagePlugin:STREAM b'IHDR' 16 13\n",
            "DEBUG:PIL.PngImagePlugin:STREAM b'IDAT' 41 65536\n",
            " 17%|██████████▋                                                   | 18/105 [00:01<00:05, 16.70it/s]DEBUG:PIL.PngImagePlugin:STREAM b'IHDR' 16 13\n",
            "DEBUG:PIL.PngImagePlugin:STREAM b'IDAT' 41 65536\n",
            "DEBUG:PIL.PngImagePlugin:STREAM b'IHDR' 16 13\n",
            "DEBUG:PIL.PngImagePlugin:STREAM b'IDAT' 41 65536\n",
            " 19%|███████████▊                                                  | 20/105 [00:01<00:04, 17.36it/s]DEBUG:PIL.PngImagePlugin:STREAM b'IHDR' 16 13\n",
            "DEBUG:PIL.PngImagePlugin:STREAM b'IDAT' 41 65536\n",
            "DEBUG:PIL.PngImagePlugin:STREAM b'IHDR' 16 13\n",
            "DEBUG:PIL.PngImagePlugin:STREAM b'IDAT' 41 65536\n",
            "DEBUG:PIL.PngImagePlugin:STREAM b'IHDR' 16 13\n",
            "DEBUG:PIL.PngImagePlugin:STREAM b'IDAT' 41 65536\n",
            " 22%|█████████████▌                                                | 23/105 [00:02<00:04, 18.10it/s]DEBUG:PIL.PngImagePlugin:STREAM b'IHDR' 16 13\n",
            "DEBUG:PIL.PngImagePlugin:STREAM b'IDAT' 41 65536\n",
            "DEBUG:PIL.PngImagePlugin:STREAM b'IHDR' 16 13\n",
            "DEBUG:PIL.PngImagePlugin:STREAM b'IDAT' 41 65536\n",
            "DEBUG:PIL.PngImagePlugin:STREAM b'IHDR' 16 13\n",
            "DEBUG:PIL.PngImagePlugin:STREAM b'IDAT' 41 65536\n",
            " 25%|███████████████▎                                              | 26/105 [00:02<00:04, 18.88it/s]DEBUG:PIL.PngImagePlugin:STREAM b'IHDR' 16 13\n",
            "DEBUG:PIL.PngImagePlugin:STREAM b'IDAT' 41 65536\n",
            "DEBUG:PIL.PngImagePlugin:STREAM b'IHDR' 16 13\n",
            "DEBUG:PIL.PngImagePlugin:STREAM b'IDAT' 41 65536\n",
            " 27%|████████████████▌                                             | 28/105 [00:02<00:04, 19.02it/s]DEBUG:PIL.PngImagePlugin:STREAM b'IHDR' 16 13\n",
            "DEBUG:PIL.PngImagePlugin:STREAM b'IDAT' 41 65536\n",
            "DEBUG:PIL.PngImagePlugin:STREAM b'IHDR' 16 13\n",
            "DEBUG:PIL.PngImagePlugin:STREAM b'IDAT' 41 65536\n",
            " 29%|█████████████████▋                                            | 30/105 [00:02<00:03, 19.23it/s]DEBUG:PIL.PngImagePlugin:STREAM b'IHDR' 16 13\n",
            "DEBUG:PIL.PngImagePlugin:STREAM b'IDAT' 41 65536\n",
            "DEBUG:PIL.PngImagePlugin:STREAM b'IHDR' 16 13\n",
            "DEBUG:PIL.PngImagePlugin:STREAM b'IDAT' 41 65536\n",
            " 30%|██████████████████▉                                           | 32/105 [00:02<00:03, 18.77it/s]DEBUG:PIL.PngImagePlugin:STREAM b'IHDR' 16 13\n",
            "DEBUG:PIL.PngImagePlugin:STREAM b'IDAT' 41 65536\n",
            "DEBUG:PIL.PngImagePlugin:STREAM b'IHDR' 16 13\n",
            "DEBUG:PIL.PngImagePlugin:STREAM b'IDAT' 41 65536\n",
            " 32%|████████████████████                                          | 34/105 [00:02<00:03, 18.17it/s]DEBUG:PIL.PngImagePlugin:STREAM b'IHDR' 16 13\n",
            "DEBUG:PIL.PngImagePlugin:STREAM b'IDAT' 41 65536\n",
            "DEBUG:PIL.PngImagePlugin:STREAM b'IHDR' 16 13\n",
            "DEBUG:PIL.PngImagePlugin:STREAM b'IDAT' 41 65536\n",
            " 34%|█████████████████████▎                                        | 36/105 [00:02<00:03, 18.53it/s]DEBUG:PIL.PngImagePlugin:STREAM b'IHDR' 16 13\n",
            "DEBUG:PIL.PngImagePlugin:STREAM b'IDAT' 41 65536\n",
            "DEBUG:PIL.PngImagePlugin:STREAM b'IHDR' 16 13\n",
            "DEBUG:PIL.PngImagePlugin:STREAM b'IDAT' 41 65536\n",
            " 36%|██████████████████████▍                                       | 38/105 [00:02<00:03, 18.35it/s]DEBUG:PIL.PngImagePlugin:STREAM b'IHDR' 16 13\n",
            "DEBUG:PIL.PngImagePlugin:STREAM b'IDAT' 41 65536\n",
            "DEBUG:PIL.PngImagePlugin:STREAM b'IHDR' 16 13\n",
            "DEBUG:PIL.PngImagePlugin:STREAM b'IDAT' 41 65536\n",
            " 38%|███████████████████████▌                                      | 40/105 [00:03<00:03, 18.62it/s]DEBUG:PIL.PngImagePlugin:STREAM b'IHDR' 16 13\n",
            "DEBUG:PIL.PngImagePlugin:STREAM b'IDAT' 41 65536\n",
            "DEBUG:PIL.PngImagePlugin:STREAM b'IHDR' 16 13\n",
            "DEBUG:PIL.PngImagePlugin:STREAM b'IDAT' 41 65536\n",
            " 40%|████████████████████████▊                                     | 42/105 [00:03<00:03, 18.90it/s]DEBUG:PIL.PngImagePlugin:STREAM b'IHDR' 16 13\n",
            "DEBUG:PIL.PngImagePlugin:STREAM b'IDAT' 41 65536\n",
            "DEBUG:PIL.PngImagePlugin:STREAM b'IHDR' 16 13\n",
            "DEBUG:PIL.PngImagePlugin:STREAM b'IDAT' 41 65536\n",
            " 42%|█████████████████████████▉                                    | 44/105 [00:03<00:03, 18.92it/s]DEBUG:PIL.PngImagePlugin:STREAM b'IHDR' 16 13\n",
            "DEBUG:PIL.PngImagePlugin:STREAM b'IDAT' 41 65536\n",
            "DEBUG:PIL.PngImagePlugin:STREAM b'IHDR' 16 13\n",
            "DEBUG:PIL.PngImagePlugin:STREAM b'IDAT' 41 65536\n",
            " 44%|███████████████████████████▏                                  | 46/105 [00:03<00:03, 19.11it/s]DEBUG:PIL.PngImagePlugin:STREAM b'IHDR' 16 13\n",
            "DEBUG:PIL.PngImagePlugin:STREAM b'IDAT' 41 65536\n",
            "DEBUG:PIL.PngImagePlugin:STREAM b'IHDR' 16 13\n",
            "DEBUG:PIL.PngImagePlugin:STREAM b'IDAT' 41 65536\n",
            " 46%|████████████████████████████▎                                 | 48/105 [00:03<00:02, 19.16it/s]DEBUG:PIL.PngImagePlugin:STREAM b'IHDR' 16 13\n",
            "DEBUG:PIL.PngImagePlugin:STREAM b'IDAT' 41 65536\n",
            "DEBUG:PIL.PngImagePlugin:STREAM b'IHDR' 16 13\n",
            "DEBUG:PIL.PngImagePlugin:STREAM b'IDAT' 41 65536\n",
            " 48%|█████████████████████████████▌                                | 50/105 [00:03<00:02, 19.14it/s]DEBUG:PIL.PngImagePlugin:STREAM b'IHDR' 16 13\n",
            "DEBUG:PIL.PngImagePlugin:STREAM b'IDAT' 41 65536\n",
            "DEBUG:PIL.PngImagePlugin:STREAM b'IHDR' 16 13\n",
            "DEBUG:PIL.PngImagePlugin:STREAM b'IDAT' 41 65536\n",
            " 50%|██████████████████████████████▋                               | 52/105 [00:03<00:02, 18.99it/s]DEBUG:PIL.PngImagePlugin:STREAM b'IHDR' 16 13\n",
            "DEBUG:PIL.PngImagePlugin:STREAM b'IDAT' 41 65536\n",
            "DEBUG:PIL.PngImagePlugin:STREAM b'IHDR' 16 13\n",
            "DEBUG:PIL.PngImagePlugin:STREAM b'IDAT' 41 65536\n",
            " 51%|███████████████████████████████▉                              | 54/105 [00:03<00:02, 19.08it/s]DEBUG:PIL.PngImagePlugin:STREAM b'IHDR' 16 13\n",
            "DEBUG:PIL.PngImagePlugin:STREAM b'IDAT' 41 65536\n",
            "DEBUG:PIL.PngImagePlugin:STREAM b'IHDR' 16 13\n",
            "DEBUG:PIL.PngImagePlugin:STREAM b'IDAT' 41 65536\n",
            " 53%|█████████████████████████████████                             | 56/105 [00:03<00:02, 19.04it/s]DEBUG:PIL.PngImagePlugin:STREAM b'IHDR' 16 13\n",
            "DEBUG:PIL.PngImagePlugin:STREAM b'IDAT' 41 65536\n",
            "DEBUG:PIL.PngImagePlugin:STREAM b'IHDR' 16 13\n",
            "DEBUG:PIL.PngImagePlugin:STREAM b'IDAT' 41 65536\n",
            " 55%|██████████████████████████████████▏                           | 58/105 [00:03<00:02, 19.13it/s]DEBUG:PIL.PngImagePlugin:STREAM b'IHDR' 16 13\n",
            "DEBUG:PIL.PngImagePlugin:STREAM b'IDAT' 41 65536\n",
            "DEBUG:PIL.PngImagePlugin:STREAM b'IHDR' 16 13\n",
            "DEBUG:PIL.PngImagePlugin:STREAM b'IDAT' 41 65536\n",
            " 57%|███████████████████████████████████▍                          | 60/105 [00:04<00:02, 19.03it/s]DEBUG:PIL.PngImagePlugin:STREAM b'IHDR' 16 13\n",
            "DEBUG:PIL.PngImagePlugin:STREAM b'IDAT' 41 65536\n",
            "DEBUG:PIL.PngImagePlugin:STREAM b'IHDR' 16 13\n",
            "DEBUG:PIL.PngImagePlugin:STREAM b'IDAT' 41 65536\n",
            " 59%|████████████████████████████████████▌                         | 62/105 [00:04<00:02, 19.13it/s]DEBUG:PIL.PngImagePlugin:STREAM b'IHDR' 16 13\n",
            "DEBUG:PIL.PngImagePlugin:STREAM b'IDAT' 41 65536\n",
            "DEBUG:PIL.PngImagePlugin:STREAM b'IHDR' 16 13\n",
            "DEBUG:PIL.PngImagePlugin:STREAM b'IDAT' 41 65536\n",
            " 61%|█████████████████████████████████████▊                        | 64/105 [00:04<00:02, 19.05it/s]DEBUG:PIL.PngImagePlugin:STREAM b'IHDR' 16 13\n",
            "DEBUG:PIL.PngImagePlugin:STREAM b'IDAT' 41 65536\n",
            "DEBUG:PIL.PngImagePlugin:STREAM b'IHDR' 16 13\n",
            "DEBUG:PIL.PngImagePlugin:STREAM b'IDAT' 41 65536\n",
            " 63%|██████████████████████████████████████▉                       | 66/105 [00:04<00:02, 18.58it/s]DEBUG:PIL.PngImagePlugin:STREAM b'IHDR' 16 13\n",
            "DEBUG:PIL.PngImagePlugin:STREAM b'IDAT' 41 65536\n",
            "DEBUG:PIL.PngImagePlugin:STREAM b'IHDR' 16 13\n",
            "DEBUG:PIL.PngImagePlugin:STREAM b'IDAT' 41 65536\n",
            "DEBUG:PIL.PngImagePlugin:STREAM b'IHDR' 16 13\n",
            "DEBUG:PIL.PngImagePlugin:STREAM b'IDAT' 41 65536\n",
            " 66%|████████████████████████████████████████▋                     | 69/105 [00:04<00:01, 19.21it/s]DEBUG:PIL.PngImagePlugin:STREAM b'IHDR' 16 13\n",
            "DEBUG:PIL.PngImagePlugin:STREAM b'IDAT' 41 65536\n",
            "DEBUG:PIL.PngImagePlugin:STREAM b'IHDR' 16 13\n",
            "DEBUG:PIL.PngImagePlugin:STREAM b'IDAT' 41 65536\n",
            " 68%|█████████████████████████████████████████▉                    | 71/105 [00:04<00:01, 18.95it/s]DEBUG:PIL.PngImagePlugin:STREAM b'IHDR' 16 13\n",
            "DEBUG:PIL.PngImagePlugin:STREAM b'IDAT' 41 65536\n",
            "DEBUG:PIL.PngImagePlugin:STREAM b'IHDR' 16 13\n",
            "DEBUG:PIL.PngImagePlugin:STREAM b'IDAT' 41 65536\n",
            " 70%|███████████████████████████████████████████                   | 73/105 [00:04<00:01, 18.76it/s]DEBUG:PIL.PngImagePlugin:STREAM b'IHDR' 16 13\n",
            "DEBUG:PIL.PngImagePlugin:STREAM b'IDAT' 41 65536\n",
            "DEBUG:PIL.PngImagePlugin:STREAM b'IHDR' 16 13\n",
            "DEBUG:PIL.PngImagePlugin:STREAM b'IDAT' 41 65536\n",
            " 71%|████████████████████████████████████████████▎                 | 75/105 [00:04<00:01, 18.81it/s]DEBUG:PIL.PngImagePlugin:STREAM b'IHDR' 16 13\n",
            "DEBUG:PIL.PngImagePlugin:STREAM b'IDAT' 41 65536\n",
            "DEBUG:PIL.PngImagePlugin:STREAM b'IHDR' 16 13\n",
            "DEBUG:PIL.PngImagePlugin:STREAM b'IDAT' 41 65536\n",
            " 73%|█████████████████████████████████████████████▍                | 77/105 [00:04<00:01, 18.87it/s]DEBUG:PIL.PngImagePlugin:STREAM b'IHDR' 16 13\n",
            "DEBUG:PIL.PngImagePlugin:STREAM b'IDAT' 41 65536\n",
            "DEBUG:PIL.PngImagePlugin:STREAM b'IHDR' 16 13\n",
            "DEBUG:PIL.PngImagePlugin:STREAM b'IDAT' 41 65536\n",
            " 75%|██████████████████████████████████████████████▋               | 79/105 [00:05<00:01, 18.74it/s]DEBUG:PIL.PngImagePlugin:STREAM b'IHDR' 16 13\n",
            "DEBUG:PIL.PngImagePlugin:STREAM b'IDAT' 41 65536\n",
            "DEBUG:PIL.PngImagePlugin:STREAM b'IHDR' 16 13\n",
            "DEBUG:PIL.PngImagePlugin:STREAM b'IDAT' 41 65536\n",
            "DEBUG:PIL.PngImagePlugin:STREAM b'IHDR' 16 13\n",
            "DEBUG:PIL.PngImagePlugin:STREAM b'IDAT' 41 65536\n",
            " 78%|████████████████████████████████████████████████▍             | 82/105 [00:05<00:01, 19.30it/s]DEBUG:PIL.PngImagePlugin:STREAM b'IHDR' 16 13\n",
            "DEBUG:PIL.PngImagePlugin:STREAM b'IDAT' 41 65536\n",
            "DEBUG:PIL.PngImagePlugin:STREAM b'IHDR' 16 13\n",
            "DEBUG:PIL.PngImagePlugin:STREAM b'IDAT' 41 65536\n",
            " 80%|█████████████████████████████████████████████████▌            | 84/105 [00:05<00:01, 18.90it/s]DEBUG:PIL.PngImagePlugin:STREAM b'IHDR' 16 13\n",
            "DEBUG:PIL.PngImagePlugin:STREAM b'IDAT' 41 65536\n",
            "DEBUG:PIL.PngImagePlugin:STREAM b'IHDR' 16 13\n",
            "DEBUG:PIL.PngImagePlugin:STREAM b'IDAT' 41 65536\n",
            "DEBUG:PIL.PngImagePlugin:STREAM b'IHDR' 16 13\n",
            "DEBUG:PIL.PngImagePlugin:STREAM b'IDAT' 41 65536\n",
            " 83%|███████████████████████████████████████████████████▎          | 87/105 [00:05<00:00, 19.47it/s]DEBUG:PIL.PngImagePlugin:STREAM b'IHDR' 16 13\n",
            "DEBUG:PIL.PngImagePlugin:STREAM b'IDAT' 41 65536\n",
            "DEBUG:PIL.PngImagePlugin:STREAM b'IHDR' 16 13\n",
            "DEBUG:PIL.PngImagePlugin:STREAM b'IDAT' 41 65536\n",
            "100%|█████████████████████████████████████████████████████████████| 105/105 [00:06<00:00, 16.67it/s]\n",
            "DEBUG:root:Calculating recalls\n",
            "INFO:root:< test - #q: 105; #db: 12771 >: R@1: 5.7, R@5: 14.3, R@10: 15.2, R@20: 19.0\n"
          ]
        }
      ],
      "source": [
        "tokyo_night_aug5_folder = \"/content/tokyo-night-aug-5/\"\n",
        "test_set_folder = os.path.join(tokyo_night_aug5_folder, \"test\")\n",
        "if not os.path.exists(test_set_folder):\n",
        "    raise FileNotFoundError(f\"Test set folder {test_set_folder} not found\")\n",
        "\n",
        "test_ds = TestDataset(test_set_folder,\n",
        "                      positive_dist_threshold=args.positive_dist_threshold)\n",
        "\n",
        "\n",
        "recalls, recalls_str = test.test(args, test_ds, model)\n",
        "logging.info(f\"{test_ds}: {recalls_str}\")\n",
        "\n",
        "# recalls for csv file\n",
        "tokyo_night_aug5_r15 = f\"{recalls[0]:.1f}/{recalls[1]:.1f}\""
      ]
    }
  ],
  "metadata": {
    "accelerator": "GPU",
    "colab": {
      "collapsed_sections": [
        "qf3z5SqWZ91b",
        "Y5jJf7v5Ox91",
        "lVEznMFwxGAE",
        "3q28MxTcweIZ",
        "h0tHKhzeweIZ"
      ],
      "provenance": [],
      "include_colab_link": true
    },
    "gpuClass": "standard",
    "kernelspec": {
      "display_name": "torch-gpu",
      "language": "python",
      "name": "python3"
    },
    "language_info": {
      "codemirror_mode": {
        "name": "ipython",
        "version": 3
      },
      "file_extension": ".py",
      "mimetype": "text/x-python",
      "name": "python",
      "nbconvert_exporter": "python",
      "pygments_lexer": "ipython3",
      "version": "3.8.15 (default, Nov 24 2022, 09:04:07) \n[Clang 14.0.6 ]"
    },
    "vscode": {
      "interpreter": {
        "hash": "dfe6e941a7766b4f667e721109bb1bb456cb30f9a228822b81d8f31d2ac25a3d"
      }
    }
  },
  "nbformat": 4,
  "nbformat_minor": 0
}